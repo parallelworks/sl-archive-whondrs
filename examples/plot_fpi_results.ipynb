{
 "cells": [
  {
   "cell_type": "markdown",
   "id": "944285e4",
   "metadata": {},
   "source": [
    "# Plot feature permutation importance (FPI) results\n",
    "\n",
    "This notebook will visualize/consolidate the FPI results of the machine learning runs (organized in different branches) in this repositiory."
   ]
  },
  {
   "cell_type": "code",
   "execution_count": null,
   "id": "16397fd0",
   "metadata": {},
   "outputs": [],
   "source": [
    "import pandas as pd\n",
    "import numpy as np\n",
    "import matplotlib.pyplot as plt\n",
    "\n",
    "# Define the repository url to work with and prefix for where it will be copied.\n",
    "repo_prefix = '/pw/tmp/'\n",
    "repo_name = 'sl-archive-whondrs'\n",
    "repo_url = 'https://github.com/parallelworks/'+repo_name"
   ]
  },
  {
   "cell_type": "markdown",
   "id": "198663bf",
   "metadata": {},
   "source": [
    "## Grab data\n",
    "\n",
    "Since the ML runs are on different branches, we need to jump from branch-to-branch and gather and plot data along the way."
   ]
  },
  {
   "cell_type": "code",
   "execution_count": null,
   "id": "9a4575a3",
   "metadata": {},
   "outputs": [],
   "source": [
    "# Make a list of which branches to operate on.\n",
    "# ASSUME that the first branch will have the most\n",
    "# complete list of features (i.e. inputs) to the ML\n",
    "# models. This first list of features will be\n",
    "# used to create a look-up table for feature-to-feature\n",
    "# comparisons/visulizations later.\n",
    "list_branches = ['Summer-2019-log10-r01']\n",
    "\n",
    "# Initialize a plot\n",
    "\n",
    "\n",
    "for ll,branch in enumerate(list_branches):\n",
    "    \n",
    "    # Check for first branch\n",
    "    if ll == 0:\n",
    "        print(\"On first branch; clone, checkout, and build feature integer ID lookup table...\")\n",
    "        ! mkdir -p {repo_prefix}\n",
    "        ! cd {repo_prefix}; git clone {repo_url}\n",
    "        ! cd {repo_prefix}/{repo_name}; git checkout {branch}\n",
    "        \n",
    "        # Load data for look up table only\n",
    "        fpi_avg = pd.read_csv(repo_prefix+repo_name+'/output_data/fpi_avg.csv', index_col=False)\n",
    "        \n",
    "        # Make the loop up table; need to invert\n",
    "        # the keys (integers) with the values (feature names)\n",
    "        # so that feature names can be converted to ints\n",
    "        # later.\n",
    "        feature_id_name_dict = dict((v,k) for k,v in fpi_avg['Unnamed: 0'].to_dict().items())\n",
    "        \n",
    "        # Unload the data b/c later we will want to use the index\n",
    "        del fpi_avg\n",
    "        \n",
    "    # Load data and replace feature names with IDs in dict\n",
    "    fpi_avg = pd.read_csv(repo_prefix+repo_name+'/output_data/fpi_avg.csv', index_col=0)\n",
    "    fpi_avg.rename(index=feature_id_name_dict, inplace=True)\n",
    "    \n",
    "    fpi_std = pd.read_csv(repo_prefix+repo_name+'/output_data/fpi_std.csv', index_col=0)\n",
    "    fpi_std.rename(index=feature_id_name_dict, inplace=True)\n",
    "\n",
    "# Done with looping over branches\n"
   ]
  },
  {
   "cell_type": "code",
   "execution_count": null,
   "id": "ebbfe07f",
   "metadata": {},
   "outputs": [],
   "source": []
  }
 ],
 "metadata": {
  "kernelspec": {
   "display_name": "Python 3 (ipykernel)",
   "language": "python",
   "name": "python3"
  },
  "language_info": {
   "codemirror_mode": {
    "name": "ipython",
    "version": 3
   },
   "file_extension": ".py",
   "mimetype": "text/x-python",
   "name": "python",
   "nbconvert_exporter": "python",
   "pygments_lexer": "ipython3",
   "version": "3.9.1"
  }
 },
 "nbformat": 4,
 "nbformat_minor": 5
}
