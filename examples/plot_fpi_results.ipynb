{
 "cells": [
  {
   "cell_type": "markdown",
   "id": "944285e4",
   "metadata": {},
   "source": [
    "# Plot feature permutation importance (FPI) results\n",
    "\n",
    "This notebook will visualize/consolidate the FPI results of the machine learning runs (organized in different branches) in this repositiory."
   ]
  },
  {
   "cell_type": "code",
   "execution_count": 1,
   "id": "16397fd0",
   "metadata": {},
   "outputs": [],
   "source": [
    "import pandas as pd\n",
    "import numpy as np\n",
    "import matplotlib.pyplot as plt\n",
    "\n",
    "# Define the repository url to work with and prefix for where it will be copied.\n",
    "repo_prefix = '/pw/tmp/'\n",
    "repo_name = 'sl-archive-whondrs'\n",
    "repo_url = 'https://github.com/parallelworks/'+repo_name"
   ]
  },
  {
   "cell_type": "markdown",
   "id": "198663bf",
   "metadata": {},
   "source": [
    "## Grab data\n",
    "\n",
    "Since the ML runs are on different branches, we need to jump from branch-to-branch and gather data along the way."
   ]
  },
  {
   "cell_type": "code",
   "execution_count": 2,
   "id": "9a4575a3",
   "metadata": {},
   "outputs": [
    {
     "name": "stdout",
     "output_type": "stream",
     "text": [
      "On first branch; clone, checkout, and build feature integer ID lookup table...\n",
      "Cloning into 'sl-archive-whondrs'...\n",
      "remote: Enumerating objects: 1139, done.\u001b[K\n",
      "remote: Counting objects: 100% (632/632), done.\u001b[K\n",
      "remote: Compressing objects: 100% (294/294), done.\u001b[K\n",
      "remote: Total 1139 (delta 350), reused 587 (delta 324), pack-reused 507\u001b[K\n",
      "Receiving objects: 100% (1139/1139), 605.26 MiB | 37.20 MiB/s, done.\n",
      "Resolving deltas: 100% (559/559), done.\n",
      "Updating files: 100% (337/337), done.\n",
      "branch 'Summer-2019-log10-r01' set up to track 'origin/Summer-2019-log10-r01'.\n",
      "Switched to a new branch 'Summer-2019-log10-r01'\n"
     ]
    }
   ],
   "source": [
    "# Make a list of which branches to operate on.\n",
    "# ASSUME that the first branch will have the most\n",
    "# complete list of features (i.e. inputs) to the ML\n",
    "# models. This first list of features will be\n",
    "# used to create a look-up table for feature-to-feature\n",
    "# comparisons/visulizations later.\n",
    "list_branches = ['Summer-2019-log10-r01']\n",
    "\n",
    "for ll,branch in enumerate(list_branches):\n",
    "    \n",
    "    # Check for first branch\n",
    "    if ll == 0:\n",
    "        print(\"On first branch; clone, checkout, and build feature integer ID lookup table...\")\n",
    "        ! mkdir -p {repo_prefix}\n",
    "        ! cd {repo_prefix}; git clone {repo_url}\n",
    "        ! cd {repo_prefix}/{repo_name}; git checkout {branch}\n",
    "        \n",
    "# Done with looping over branches\n"
   ]
  },
  {
   "cell_type": "code",
   "execution_count": null,
   "id": "f794ed9f",
   "metadata": {},
   "outputs": [],
   "source": []
  }
 ],
 "metadata": {
  "kernelspec": {
   "display_name": "Python 3 (ipykernel)",
   "language": "python",
   "name": "python3"
  },
  "language_info": {
   "codemirror_mode": {
    "name": "ipython",
    "version": 3
   },
   "file_extension": ".py",
   "mimetype": "text/x-python",
   "name": "python",
   "nbconvert_exporter": "python",
   "pygments_lexer": "ipython3",
   "version": "3.9.1"
  }
 },
 "nbformat": 4,
 "nbformat_minor": 5
}
