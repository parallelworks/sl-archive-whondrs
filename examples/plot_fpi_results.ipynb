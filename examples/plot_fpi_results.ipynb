{
 "cells": [
  {
   "cell_type": "markdown",
   "id": "944285e4",
   "metadata": {},
   "source": [
    "# Plot feature permutation importance (FPI) results\n",
    "\n",
    "This notebook will visualize/consolidate the FPI results of the machine learning runs (organized in different branches) in this repositiory."
   ]
  },
  {
   "cell_type": "code",
   "execution_count": 1,
   "id": "16397fd0",
   "metadata": {},
   "outputs": [],
   "source": [
    "import pandas as pd\n",
    "import numpy as np\n",
    "import matplotlib.pyplot as plt\n",
    "#from matplotlib.collections import PatchCollection\n",
    "#from matplotlib.patches import Rectangle\n",
    "\n",
    "# Define the repository url to work with and prefix for where it will be copied.\n",
    "repo_prefix = '/pw/tmp/'\n",
    "repo_name = 'sl-archive-whondrs'\n",
    "repo_url = 'https://github.com/parallelworks/'+repo_name"
   ]
  },
  {
   "cell_type": "markdown",
   "id": "198663bf",
   "metadata": {},
   "source": [
    "## Grab data\n",
    "\n",
    "Since the ML runs are on different branches, we need to jump from branch-to-branch and gather and plot data along the way."
   ]
  },
  {
   "cell_type": "code",
   "execution_count": 2,
   "id": "9a4575a3",
   "metadata": {},
   "outputs": [
    {
     "name": "stdout",
     "output_type": "stream",
     "text": [
      "On first branch; clone, checkout, and build feature integer ID lookup table...\n",
      "fatal: destination path 'sl-archive-whondrs' already exists and is not an empty directory.\n",
      "Updating files: 100% (296/296), done.\n",
      "Switched to branch 'Summer-2019-log10-r01'\n",
      "Your branch is up to date with 'origin/Summer-2019-log10-r01'.\n",
      "Updating files: 100% (296/296), done.\n",
      "Switched to branch 'Summer-2019-log10-r02'\n",
      "Your branch is up to date with 'origin/Summer-2019-log10-r02'.\n",
      "Updating files: 100% (240/240), done.\n",
      "Switched to branch 'Summer-2019-log10-r03'\n",
      "Your branch is up to date with 'origin/Summer-2019-log10-r03'.\n"
     ]
    },
    {
     "data": {
      "text/plain": [
       "(0.0, 6.5493862781256835)"
      ]
     },
     "execution_count": 2,
     "metadata": {},
     "output_type": "execute_result"
    },
    {
     "data": {
      "image/png": "[encoded data removed]",
      "text/plain": [
       "<Figure size 2000x1000 with 1 Axes>"
      ]
     },
     "metadata": {},
     "output_type": "display_data"
    }
   ],
   "source": [
    "# Make a list of which branches to operate on.\n",
    "# ASSUME that the first branch will have the most\n",
    "# complete list of features (i.e. inputs) to the ML\n",
    "# models. This first list of features will be\n",
    "# used to create a look-up table for feature-to-feature\n",
    "# comparisons/visulizations later.\n",
    "list_branches = ['Summer-2019-log10-r01','Summer-2019-log10-r02','Summer-2019-log10-r03']\n",
    "list_colors = ['k','r','g','b']\n",
    "fpi_max = 0.0\n",
    "\n",
    "# Initialize a plot\n",
    "fig, ax = plt.subplots(1,1,figsize=(20,10))\n",
    "\n",
    "for ll,branch in enumerate(list_branches):\n",
    "    \n",
    "    # Check for first branch\n",
    "    if ll == 0:\n",
    "        print(\"On first branch; clone, checkout, and build feature integer ID lookup table...\")\n",
    "        ! mkdir -p {repo_prefix}\n",
    "        ! cd {repo_prefix}; git clone {repo_url}\n",
    "        ! cd {repo_prefix}/{repo_name}; git checkout {branch}\n",
    "        \n",
    "        # Load data for look up table only\n",
    "        fpi_avg = pd.read_csv(repo_prefix+repo_name+'/output_data/fpi_avg.csv', index_col=False)\n",
    "        \n",
    "        # Make the loop up table; need to invert\n",
    "        # the keys (integers) with the values (feature names)\n",
    "        # so that feature names can be converted to ints\n",
    "        # later.\n",
    "        feature_id_name_dict = dict((v,k) for k,v in fpi_avg['Unnamed: 0'].to_dict().items())\n",
    "        \n",
    "        # Unload the data b/c later we will want to use the index\n",
    "        del fpi_avg\n",
    "    else:\n",
    "        # Set up is complete with first branch, just change to other branches\n",
    "        ! cd {repo_prefix}/{repo_name}; git checkout {branch}\n",
    "    \n",
    "    # Load data and replace feature names with IDs in dict\n",
    "    # In the process, get a list of features available in\n",
    "    # just this branch.\n",
    "    fpi_avg = pd.read_csv(repo_prefix+repo_name+'/output_data/fpi_avg.csv', index_col=0)\n",
    "    branch_feature_names = list(fpi_avg.index)\n",
    "    fpi_avg.rename(index=feature_id_name_dict, inplace=True)\n",
    "    \n",
    "    fpi_std = pd.read_csv(repo_prefix+repo_name+'/output_data/fpi_std.csv', index_col=0)\n",
    "    fpi_std.rename(index=feature_id_name_dict, inplace=True)\n",
    "    \n",
    "    # Get summary statistics over each FPI (random shuffle\n",
    "    # of grouped features) iteration\n",
    "    upper = fpi_avg.mean(axis=1)+fpi_avg.std(axis=1)\n",
    "    lower = fpi_avg.mean(axis=1)-fpi_avg.std(axis=1)\n",
    "    error = fpi_std.max(axis=1)\n",
    "    \n",
    "    # If the max value is bigger than the current value,\n",
    "    # update it.\n",
    "    if upper.max() > fpi_max:\n",
    "        fpi_max = upper.max()\n",
    "    \n",
    "    # Plot a box for each feature. We work feature by feature\n",
    "    # because not all features will be available and not all\n",
    "    # are chopped out from the edges either; sometimes features\n",
    "    # will be chopped out from the middle so we don't want to\n",
    "    # plot continuous lines.\n",
    "    for feature in branch_feature_names:\n",
    "        # Get feature ID from the dict\n",
    "        f_id = feature_id_name_dict[feature]\n",
    "        \n",
    "        # Get the upper and lower bounds of the box\n",
    "        f_upper = upper[f_id] \n",
    "        f_lower = lower[f_id]\n",
    "        f_error = error[f_id]\n",
    "        \n",
    "        #print(f_id)\n",
    "        #print(f_upper)\n",
    "        #print(f_lower)\n",
    "        #print(f_error)\n",
    "        \n",
    "        # Construct the box and plot\n",
    "        # Loop over data points; create box from errors at each point\n",
    "        #rect = plt.Rectangle((f_id - 0.5, f_lower), 1.0, f_upper - f_lower, facecolor=\"black\", alpha=0.1)\n",
    "\n",
    "        left, bottom, width, height = (f_id - 0.5, f_lower, 1.0, f_upper-f_lower)\n",
    "        #print(left)\n",
    "        #print(bottom)\n",
    "        #print(width)\n",
    "        #print(height)\n",
    "        \n",
    "        rect = plt.Rectangle((left, bottom), width, height,\n",
    "            facecolor=list_colors[ll], alpha=0.1)\n",
    "        \n",
    "        # Create patch collection with specified colour/alpha\n",
    "        #pc = PatchCollection(rect, facecolor='r', alpha=0.5, edgecolor='k')\n",
    "    \n",
    "        # Add collection to axes\n",
    "        ax.add_patch(rect)\n",
    "    \n",
    "    # Clear loaded data\n",
    "    del fpi_std\n",
    "    del fpi_avg\n",
    "    \n",
    "# Done with looping over branches\n",
    "ax.grid()\n",
    "plt.xlim(0,len(feature_id_name_dict))\n",
    "plt.ylim(0,fpi_max)"
   ]
  },
  {
   "cell_type": "code",
   "execution_count": 5,
   "id": "d835642c",
   "metadata": {},
   "outputs": [],
   "source": [
    "a = [\n",
    "    'one',\n",
    "#    'two',\n",
    "    'three'\n",
    "#    'four'\n",
    "]"
   ]
  },
  {
   "cell_type": "code",
   "execution_count": 6,
   "id": "224505e6",
   "metadata": {},
   "outputs": [
    {
     "data": {
      "text/plain": [
       "['one', 'three']"
      ]
     },
     "execution_count": 6,
     "metadata": {},
     "output_type": "execute_result"
    }
   ],
   "source": [
    "a"
   ]
  },
  {
   "cell_type": "code",
   "execution_count": null,
   "id": "be517e47",
   "metadata": {},
   "outputs": [],
   "source": []
  }
 ],
 "metadata": {
  "kernelspec": {
   "display_name": "Python 3 (ipykernel)",
   "language": "python",
   "name": "python3"
  },
  "language_info": {
   "codemirror_mode": {
    "name": "ipython",
    "version": 3
   },
   "file_extension": ".py",
   "mimetype": "text/x-python",
   "name": "python",
   "nbconvert_exporter": "python",
   "pygments_lexer": "ipython3",
   "version": "3.9.1"
  }
 },
 "nbformat": 4,
 "nbformat_minor": 5
}
