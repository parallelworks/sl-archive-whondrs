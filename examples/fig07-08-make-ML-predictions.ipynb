{
 "cells": [
  {
   "cell_type": "markdown",
   "id": "9aae5b99-4a7a-4a19-abc7-8ce355879d51",
   "metadata": {
    "tags": []
   },
   "source": [
    "# Notebook for making predictions with an ensemble of SuperLearner machine learning models.\n",
    "\n",
    "This Jupyter notebook is an example for how to reuse an archived ML model trained for predicting sediment respiration rates. The general concepts used here can be applied elsewhere. The core operations used here are based on `sl_core/predict.py` available at [this link](https://github.com/parallelworks/sl_core/blob/main/predict.py).\n",
    "\n",
    "This notebook proceeds in two **independent** stages. The first set of predictions are a relatively large job over some 80,000 sites (10 mins run time, 46GB RAM) - these are all the possible RiverAtlas sites in a whole river basin.  The second stage is predictions at the RiverAtlas and GLORICH merged sites (so limited to the number of sites where there are records of _in situ_ chemistry observations) instead of all river segments identified in topography.\n",
    "\n",
    "## Dependencies\n",
    "\n",
    "In order to use the ML model, you need to first get access to the Python packages necessary for running the model. SuperLearners are currently stored in `.pkl` format and this format is sensitive to the exact versions of Python and scikit-learn that are in the active environment. (Future work will move SuperLearners to ONNX format which is more portable.) The SuperLearner automatically stores `.yaml` files that define its run environment, but, to keep environments lightweight and minimize install time, etc., these environments do not contain the packages needed for displaying Jupyter notebooks. As such, this repository contains a `.yaml` that can be used with the following command:\n",
    "```\n",
    "conda env update --name <your-env-name> -f fig07-08-notebook-conda-env.yaml\n",
    "```\n",
    "\n",
    "This file was created from an automatically generated SuperLearner environment definition file with the following commands:\n",
    "```\n",
    "conda create -y --name superlearner python=3.9\n",
    "conda activate superlearner\n",
    "conda env update --name superlearner -f requirements.yaml\n",
    "conda install -y -c conda-forge requests\n",
    "conda install -y -c anaconda jinja2\n",
    "conda install -y -c conda-forge ipykernel\n",
    "conda env export --name superlearner > fig07-08-notebook-conda-env.yaml\n",
    "```\n",
    "\n",
    "The `.yaml` files here are stored as gzipped files `.yaml.gz` because otherwise GitHub will read the `requirements.yaml` files and print security warnings if the files use out of date packages. Since this code is of limited duration scientific use (i.e. not production) I have ignored these warnings."
   ]
  },
  {
   "cell_type": "code",
   "execution_count": 1,
   "id": "eaeeaffa-3e4d-4ff0-b589-308016336649",
   "metadata": {
    "tags": []
   },
   "outputs": [],
   "source": [
    "import pickle\n",
    "import pandas as pd\n",
    "import json\n",
    "import numpy as np\n",
    "import matplotlib.pyplot as plt\n",
    "import sklearn.metrics\n",
    "from sklearn.metrics import mean_squared_error\n",
    "from sklearn.utils import shuffle\n",
    "from sklearn.decomposition import PCA\n",
    "from sklearn.preprocessing import StandardScaler\n",
    "from sklearn.preprocessing import MaxAbsScaler\n",
    "import sys\n",
    "import o2sat"
   ]
  },
  {
   "cell_type": "markdown",
   "id": "a711c498-f0cd-4f3b-8490-8be56b787872",
   "metadata": {},
   "source": [
    "## Stage 1 (RA only): Specify repository and branch to work on"
   ]
  },
  {
   "cell_type": "code",
   "execution_count": 2,
   "id": "34274d4e-7e95-441b-95c3-5f82cdfa56ee",
   "metadata": {
    "tags": []
   },
   "outputs": [
    {
     "name": "stdout",
     "output_type": "stream",
     "text": [
      "fatal: destination path 'sl-archive-whondrs' already exists and is not an empty directory.\n",
      "Switched to branch 'S19S-SSS-log10-extrap-r02'\n"
     ]
    }
   ],
   "source": [
    "# Using ~ here for $HOME will cause pickle.load failures later\n",
    "# so must use absolute path.\n",
    "repo_prefix = '/home/sfgary/tmp/'\n",
    "repo_name = 'sl-archive-whondrs'\n",
    "repo_url = 'https://github.com/parallelworks/'+repo_name\n",
    "branch = 'S19S-SSS-log10-extrap-r02'\n",
    "\n",
    "# Grab the data and get onto the branch if not already there\n",
    "! mkdir -p {repo_prefix}\n",
    "! cd {repo_prefix}; git clone {repo_url}\n",
    "! cd {repo_prefix}/{repo_name}; git checkout {branch}"
   ]
  },
  {
   "cell_type": "markdown",
   "id": "bb9eee97-6948-4a38-a14a-d782a15568f1",
   "metadata": {},
   "source": [
    "## Stage 1 (RA only): Load data that will be used to make predictions"
   ]
  },
  {
   "cell_type": "code",
   "execution_count": 3,
   "id": "39a91caa-b403-488e-8a23-2826d9b763e5",
   "metadata": {
    "tags": []
   },
   "outputs": [],
   "source": [
    "# There are two zipped files.  Decompress and load each one\n",
    "!gunzip -c grdb_step_03b_output_RiverATLAS_v10_na.xyz.7411.csv.gz > grdb_step_03b_output_RiverATLAS_v10_na.xyz.7411.csv\n",
    "!gunzip -c grdb_step_03b_output_RiverATLAS_v10_na.xyz.7412.csv.gz > grdb_step_03b_output_RiverATLAS_v10_na.xyz.7412.csv\n",
    "\n",
    "# Do not specify ID as the index when loading the data because\n",
    "# we will want to remove it later.\n",
    "list_df = []\n",
    "list_df.append(pd.read_csv('grdb_step_03b_output_RiverATLAS_v10_na.xyz.7411.csv')) #, index_col='RA_ID'))\n",
    "list_df.append(pd.read_csv('grdb_step_03b_output_RiverATLAS_v10_na.xyz.7412.csv')) #, index_col='RA_ID'))\n",
    "\n",
    "# Clean up\n",
    "!rm grdb_step_03b_output_RiverATLAS_v10_na.xyz.7411.csv\n",
    "!rm grdb_step_03b_output_RiverATLAS_v10_na.xyz.7412.csv\n",
    "\n",
    "# Concatenate\n",
    "predict_df = pd.concat(list_df,axis=0)\n",
    "\n",
    "# Some river segments are so short they only have one coordinate point.\n",
    "# Replace any missing (lon2,lat2) with (lon1,lat2) for uniformity.\n",
    "# Add a very very small displacement to each so all segments have\n",
    "# very small but non-zero length.\n",
    "predict_df['lon2'].fillna(value=predict_df['lon1']+0.000001,inplace=True)\n",
    "predict_df['lat2'].fillna(value=predict_df['lat1']+0.000001,inplace=True)\n",
    "\n",
    "# Store the ID, lon, and lat in a separate dataframe for integration later\n",
    "# These values are NOT used by the ML model and and such should be removed\n",
    "# from the DF that is going to be used to make predictions.\n",
    "predict_ixy = pd.DataFrame(columns=['RA_ID','lon1','lat1','lon2','lat2'])\n",
    "predict_ixy['RA_ID'] = predict_df.pop('RA_ID')\n",
    "predict_ixy['lon1'] = predict_df.pop('lon1')\n",
    "predict_ixy['lat1'] = predict_df.pop('lat1')\n",
    "predict_ixy['lon2'] = predict_df.pop('lon2')\n",
    "predict_ixy['lat2'] = predict_df.pop('lat2')\n",
    "\n",
    "# Reset the index to increment to column order - this will match the\n",
    "# output from the predict stage later.\n",
    "predict_ixy.reset_index(drop=True,inplace=True)\n",
    "\n",
    "# There is exactly one NaN value remaining at one site for the stream\n",
    "# depth. For generality with other data sets, replace any NaN\n",
    "# with the mean value of the whole column.\n",
    "predict_df.fillna(predict_df.mean(), inplace = True)"
   ]
  },
  {
   "cell_type": "markdown",
   "id": "d339ef1a-f6a4-4062-a144-8d3d802d7d51",
   "metadata": {},
   "source": [
    "## Stage 1 (RA only): Make predictions"
   ]
  },
  {
   "cell_type": "code",
   "execution_count": 4,
   "id": "570ab496-8abd-4d90-b44e-ee69c0a575de",
   "metadata": {
    "tags": []
   },
   "outputs": [
    {
     "name": "stdout",
     "output_type": "stream",
     "text": [
      "Working on SuperLearner ensemble member 0\n"
     ]
    },
    {
     "name": "stderr",
     "output_type": "stream",
     "text": [
      "/home/sfgary/.miniconda3c/envs/superlearner/lib/python3.9/site-packages/sklearn/base.py:457: UserWarning: X has feature names, but StandardScaler was fitted without feature names\n",
      "  warnings.warn(\n",
      "/home/sfgary/.miniconda3c/envs/superlearner/lib/python3.9/site-packages/sklearn/base.py:457: UserWarning: X has feature names, but MinMaxScaler was fitted without feature names\n",
      "  warnings.warn(\n",
      "/home/sfgary/.miniconda3c/envs/superlearner/lib/python3.9/site-packages/sklearn/base.py:457: UserWarning: X has feature names, but MinMaxScaler was fitted without feature names\n",
      "  warnings.warn(\n",
      "/home/sfgary/.miniconda3c/envs/superlearner/lib/python3.9/site-packages/sklearn/base.py:457: UserWarning: X has feature names, but MinMaxScaler was fitted without feature names\n",
      "  warnings.warn(\n",
      "/home/sfgary/.miniconda3c/envs/superlearner/lib/python3.9/site-packages/sklearn/base.py:457: UserWarning: X has feature names, but MinMaxScaler was fitted without feature names\n",
      "  warnings.warn(\n",
      "/home/sfgary/.miniconda3c/envs/superlearner/lib/python3.9/site-packages/sklearn/base.py:457: UserWarning: X has feature names, but MinMaxScaler was fitted without feature names\n",
      "  warnings.warn(\n",
      "/home/sfgary/.miniconda3c/envs/superlearner/lib/python3.9/site-packages/sklearn/base.py:457: UserWarning: X has feature names, but MinMaxScaler was fitted without feature names\n",
      "  warnings.warn(\n",
      "/home/sfgary/.miniconda3c/envs/superlearner/lib/python3.9/site-packages/sklearn/base.py:457: UserWarning: X has feature names, but MinMaxScaler was fitted without feature names\n",
      "  warnings.warn(\n",
      "/home/sfgary/.miniconda3c/envs/superlearner/lib/python3.9/site-packages/sklearn/base.py:457: UserWarning: X has feature names, but StandardScaler was fitted without feature names\n",
      "  warnings.warn(\n",
      "/home/sfgary/.miniconda3c/envs/superlearner/lib/python3.9/site-packages/sklearn/base.py:457: UserWarning: X has feature names, but StandardScaler was fitted without feature names\n",
      "  warnings.warn(\n",
      "/home/sfgary/.miniconda3c/envs/superlearner/lib/python3.9/site-packages/sklearn/base.py:457: UserWarning: X has feature names, but MinMaxScaler was fitted without feature names\n",
      "  warnings.warn(\n",
      "/home/sfgary/.miniconda3c/envs/superlearner/lib/python3.9/site-packages/sklearn/base.py:457: UserWarning: X has feature names, but StandardScaler was fitted without feature names\n",
      "  warnings.warn(\n",
      "/home/sfgary/.miniconda3c/envs/superlearner/lib/python3.9/site-packages/sklearn/base.py:457: UserWarning: X has feature names, but StandardScaler was fitted without feature names\n",
      "  warnings.warn(\n",
      "/home/sfgary/.miniconda3c/envs/superlearner/lib/python3.9/site-packages/sklearn/base.py:457: UserWarning: X has feature names, but MinMaxScaler was fitted without feature names\n",
      "  warnings.warn(\n",
      "/home/sfgary/.miniconda3c/envs/superlearner/lib/python3.9/site-packages/sklearn/base.py:457: UserWarning: X has feature names, but MinMaxScaler was fitted without feature names\n",
      "  warnings.warn(\n"
     ]
    },
    {
     "name": "stdout",
     "output_type": "stream",
     "text": [
      "Working on SuperLearner ensemble member 1\n"
     ]
    },
    {
     "name": "stderr",
     "output_type": "stream",
     "text": [
      "/home/sfgary/.miniconda3c/envs/superlearner/lib/python3.9/site-packages/sklearn/base.py:457: UserWarning: X has feature names, but StandardScaler was fitted without feature names\n",
      "  warnings.warn(\n",
      "/home/sfgary/.miniconda3c/envs/superlearner/lib/python3.9/site-packages/sklearn/base.py:457: UserWarning: X has feature names, but MinMaxScaler was fitted without feature names\n",
      "  warnings.warn(\n",
      "/home/sfgary/.miniconda3c/envs/superlearner/lib/python3.9/site-packages/sklearn/base.py:457: UserWarning: X has feature names, but MinMaxScaler was fitted without feature names\n",
      "  warnings.warn(\n",
      "/home/sfgary/.miniconda3c/envs/superlearner/lib/python3.9/site-packages/sklearn/base.py:457: UserWarning: X has feature names, but MinMaxScaler was fitted without feature names\n",
      "  warnings.warn(\n",
      "/home/sfgary/.miniconda3c/envs/superlearner/lib/python3.9/site-packages/sklearn/base.py:457: UserWarning: X has feature names, but MinMaxScaler was fitted without feature names\n",
      "  warnings.warn(\n",
      "/home/sfgary/.miniconda3c/envs/superlearner/lib/python3.9/site-packages/sklearn/base.py:457: UserWarning: X has feature names, but MinMaxScaler was fitted without feature names\n",
      "  warnings.warn(\n",
      "/home/sfgary/.miniconda3c/envs/superlearner/lib/python3.9/site-packages/sklearn/base.py:457: UserWarning: X has feature names, but MinMaxScaler was fitted without feature names\n",
      "  warnings.warn(\n",
      "/home/sfgary/.miniconda3c/envs/superlearner/lib/python3.9/site-packages/sklearn/base.py:457: UserWarning: X has feature names, but MinMaxScaler was fitted without feature names\n",
      "  warnings.warn(\n",
      "/home/sfgary/.miniconda3c/envs/superlearner/lib/python3.9/site-packages/sklearn/base.py:457: UserWarning: X has feature names, but StandardScaler was fitted without feature names\n",
      "  warnings.warn(\n",
      "/home/sfgary/.miniconda3c/envs/superlearner/lib/python3.9/site-packages/sklearn/base.py:457: UserWarning: X has feature names, but StandardScaler was fitted without feature names\n",
      "  warnings.warn(\n",
      "/home/sfgary/.miniconda3c/envs/superlearner/lib/python3.9/site-packages/sklearn/base.py:457: UserWarning: X has feature names, but MinMaxScaler was fitted without feature names\n",
      "  warnings.warn(\n",
      "/home/sfgary/.miniconda3c/envs/superlearner/lib/python3.9/site-packages/sklearn/base.py:457: UserWarning: X has feature names, but StandardScaler was fitted without feature names\n",
      "  warnings.warn(\n",
      "/home/sfgary/.miniconda3c/envs/superlearner/lib/python3.9/site-packages/sklearn/base.py:457: UserWarning: X has feature names, but StandardScaler was fitted without feature names\n",
      "  warnings.warn(\n",
      "/home/sfgary/.miniconda3c/envs/superlearner/lib/python3.9/site-packages/sklearn/base.py:457: UserWarning: X has feature names, but MinMaxScaler was fitted without feature names\n",
      "  warnings.warn(\n",
      "/home/sfgary/.miniconda3c/envs/superlearner/lib/python3.9/site-packages/sklearn/base.py:457: UserWarning: X has feature names, but MinMaxScaler was fitted without feature names\n",
      "  warnings.warn(\n"
     ]
    },
    {
     "name": "stdout",
     "output_type": "stream",
     "text": [
      "Working on SuperLearner ensemble member 2\n"
     ]
    },
    {
     "name": "stderr",
     "output_type": "stream",
     "text": [
      "/home/sfgary/.miniconda3c/envs/superlearner/lib/python3.9/site-packages/sklearn/base.py:457: UserWarning: X has feature names, but StandardScaler was fitted without feature names\n",
      "  warnings.warn(\n",
      "/home/sfgary/.miniconda3c/envs/superlearner/lib/python3.9/site-packages/sklearn/base.py:457: UserWarning: X has feature names, but MinMaxScaler was fitted without feature names\n",
      "  warnings.warn(\n",
      "/home/sfgary/.miniconda3c/envs/superlearner/lib/python3.9/site-packages/sklearn/base.py:457: UserWarning: X has feature names, but MinMaxScaler was fitted without feature names\n",
      "  warnings.warn(\n",
      "/home/sfgary/.miniconda3c/envs/superlearner/lib/python3.9/site-packages/sklearn/base.py:457: UserWarning: X has feature names, but MinMaxScaler was fitted without feature names\n",
      "  warnings.warn(\n",
      "/home/sfgary/.miniconda3c/envs/superlearner/lib/python3.9/site-packages/sklearn/base.py:457: UserWarning: X has feature names, but MinMaxScaler was fitted without feature names\n",
      "  warnings.warn(\n",
      "/home/sfgary/.miniconda3c/envs/superlearner/lib/python3.9/site-packages/sklearn/base.py:457: UserWarning: X has feature names, but MinMaxScaler was fitted without feature names\n",
      "  warnings.warn(\n",
      "/home/sfgary/.miniconda3c/envs/superlearner/lib/python3.9/site-packages/sklearn/base.py:457: UserWarning: X has feature names, but MinMaxScaler was fitted without feature names\n",
      "  warnings.warn(\n",
      "/home/sfgary/.miniconda3c/envs/superlearner/lib/python3.9/site-packages/sklearn/base.py:457: UserWarning: X has feature names, but MinMaxScaler was fitted without feature names\n",
      "  warnings.warn(\n",
      "/home/sfgary/.miniconda3c/envs/superlearner/lib/python3.9/site-packages/sklearn/base.py:457: UserWarning: X has feature names, but StandardScaler was fitted without feature names\n",
      "  warnings.warn(\n",
      "/home/sfgary/.miniconda3c/envs/superlearner/lib/python3.9/site-packages/sklearn/base.py:457: UserWarning: X has feature names, but StandardScaler was fitted without feature names\n",
      "  warnings.warn(\n",
      "/home/sfgary/.miniconda3c/envs/superlearner/lib/python3.9/site-packages/sklearn/base.py:457: UserWarning: X has feature names, but MinMaxScaler was fitted without feature names\n",
      "  warnings.warn(\n",
      "/home/sfgary/.miniconda3c/envs/superlearner/lib/python3.9/site-packages/sklearn/base.py:457: UserWarning: X has feature names, but StandardScaler was fitted without feature names\n",
      "  warnings.warn(\n",
      "/home/sfgary/.miniconda3c/envs/superlearner/lib/python3.9/site-packages/sklearn/base.py:457: UserWarning: X has feature names, but StandardScaler was fitted without feature names\n",
      "  warnings.warn(\n",
      "/home/sfgary/.miniconda3c/envs/superlearner/lib/python3.9/site-packages/sklearn/base.py:457: UserWarning: X has feature names, but MinMaxScaler was fitted without feature names\n",
      "  warnings.warn(\n",
      "/home/sfgary/.miniconda3c/envs/superlearner/lib/python3.9/site-packages/sklearn/base.py:457: UserWarning: X has feature names, but MinMaxScaler was fitted without feature names\n",
      "  warnings.warn(\n"
     ]
    },
    {
     "name": "stdout",
     "output_type": "stream",
     "text": [
      "Working on SuperLearner ensemble member 3\n"
     ]
    },
    {
     "name": "stderr",
     "output_type": "stream",
     "text": [
      "/home/sfgary/.miniconda3c/envs/superlearner/lib/python3.9/site-packages/sklearn/base.py:457: UserWarning: X has feature names, but StandardScaler was fitted without feature names\n",
      "  warnings.warn(\n",
      "/home/sfgary/.miniconda3c/envs/superlearner/lib/python3.9/site-packages/sklearn/base.py:457: UserWarning: X has feature names, but MinMaxScaler was fitted without feature names\n",
      "  warnings.warn(\n",
      "/home/sfgary/.miniconda3c/envs/superlearner/lib/python3.9/site-packages/sklearn/base.py:457: UserWarning: X has feature names, but MinMaxScaler was fitted without feature names\n",
      "  warnings.warn(\n",
      "/home/sfgary/.miniconda3c/envs/superlearner/lib/python3.9/site-packages/sklearn/base.py:457: UserWarning: X has feature names, but MinMaxScaler was fitted without feature names\n",
      "  warnings.warn(\n",
      "/home/sfgary/.miniconda3c/envs/superlearner/lib/python3.9/site-packages/sklearn/base.py:457: UserWarning: X has feature names, but MinMaxScaler was fitted without feature names\n",
      "  warnings.warn(\n",
      "/home/sfgary/.miniconda3c/envs/superlearner/lib/python3.9/site-packages/sklearn/base.py:457: UserWarning: X has feature names, but MinMaxScaler was fitted without feature names\n",
      "  warnings.warn(\n",
      "/home/sfgary/.miniconda3c/envs/superlearner/lib/python3.9/site-packages/sklearn/base.py:457: UserWarning: X has feature names, but MinMaxScaler was fitted without feature names\n",
      "  warnings.warn(\n",
      "/home/sfgary/.miniconda3c/envs/superlearner/lib/python3.9/site-packages/sklearn/base.py:457: UserWarning: X has feature names, but MinMaxScaler was fitted without feature names\n",
      "  warnings.warn(\n",
      "/home/sfgary/.miniconda3c/envs/superlearner/lib/python3.9/site-packages/sklearn/base.py:457: UserWarning: X has feature names, but StandardScaler was fitted without feature names\n",
      "  warnings.warn(\n",
      "/home/sfgary/.miniconda3c/envs/superlearner/lib/python3.9/site-packages/sklearn/base.py:457: UserWarning: X has feature names, but StandardScaler was fitted without feature names\n",
      "  warnings.warn(\n",
      "/home/sfgary/.miniconda3c/envs/superlearner/lib/python3.9/site-packages/sklearn/base.py:457: UserWarning: X has feature names, but MinMaxScaler was fitted without feature names\n",
      "  warnings.warn(\n",
      "/home/sfgary/.miniconda3c/envs/superlearner/lib/python3.9/site-packages/sklearn/base.py:457: UserWarning: X has feature names, but StandardScaler was fitted without feature names\n",
      "  warnings.warn(\n",
      "/home/sfgary/.miniconda3c/envs/superlearner/lib/python3.9/site-packages/sklearn/base.py:457: UserWarning: X has feature names, but StandardScaler was fitted without feature names\n",
      "  warnings.warn(\n",
      "/home/sfgary/.miniconda3c/envs/superlearner/lib/python3.9/site-packages/sklearn/base.py:457: UserWarning: X has feature names, but MinMaxScaler was fitted without feature names\n",
      "  warnings.warn(\n",
      "/home/sfgary/.miniconda3c/envs/superlearner/lib/python3.9/site-packages/sklearn/base.py:457: UserWarning: X has feature names, but MinMaxScaler was fitted without feature names\n",
      "  warnings.warn(\n"
     ]
    },
    {
     "name": "stdout",
     "output_type": "stream",
     "text": [
      "Working on SuperLearner ensemble member 4\n"
     ]
    },
    {
     "name": "stderr",
     "output_type": "stream",
     "text": [
      "/home/sfgary/.miniconda3c/envs/superlearner/lib/python3.9/site-packages/sklearn/base.py:457: UserWarning: X has feature names, but StandardScaler was fitted without feature names\n",
      "  warnings.warn(\n",
      "/home/sfgary/.miniconda3c/envs/superlearner/lib/python3.9/site-packages/sklearn/base.py:457: UserWarning: X has feature names, but MinMaxScaler was fitted without feature names\n",
      "  warnings.warn(\n",
      "/home/sfgary/.miniconda3c/envs/superlearner/lib/python3.9/site-packages/sklearn/base.py:457: UserWarning: X has feature names, but MinMaxScaler was fitted without feature names\n",
      "  warnings.warn(\n",
      "/home/sfgary/.miniconda3c/envs/superlearner/lib/python3.9/site-packages/sklearn/base.py:457: UserWarning: X has feature names, but MinMaxScaler was fitted without feature names\n",
      "  warnings.warn(\n",
      "/home/sfgary/.miniconda3c/envs/superlearner/lib/python3.9/site-packages/sklearn/base.py:457: UserWarning: X has feature names, but MinMaxScaler was fitted without feature names\n",
      "  warnings.warn(\n",
      "/home/sfgary/.miniconda3c/envs/superlearner/lib/python3.9/site-packages/sklearn/base.py:457: UserWarning: X has feature names, but MinMaxScaler was fitted without feature names\n",
      "  warnings.warn(\n",
      "/home/sfgary/.miniconda3c/envs/superlearner/lib/python3.9/site-packages/sklearn/base.py:457: UserWarning: X has feature names, but MinMaxScaler was fitted without feature names\n",
      "  warnings.warn(\n",
      "/home/sfgary/.miniconda3c/envs/superlearner/lib/python3.9/site-packages/sklearn/base.py:457: UserWarning: X has feature names, but MinMaxScaler was fitted without feature names\n",
      "  warnings.warn(\n",
      "/home/sfgary/.miniconda3c/envs/superlearner/lib/python3.9/site-packages/sklearn/base.py:457: UserWarning: X has feature names, but StandardScaler was fitted without feature names\n",
      "  warnings.warn(\n",
      "/home/sfgary/.miniconda3c/envs/superlearner/lib/python3.9/site-packages/sklearn/base.py:457: UserWarning: X has feature names, but StandardScaler was fitted without feature names\n",
      "  warnings.warn(\n",
      "/home/sfgary/.miniconda3c/envs/superlearner/lib/python3.9/site-packages/sklearn/base.py:457: UserWarning: X has feature names, but MinMaxScaler was fitted without feature names\n",
      "  warnings.warn(\n",
      "/home/sfgary/.miniconda3c/envs/superlearner/lib/python3.9/site-packages/sklearn/base.py:457: UserWarning: X has feature names, but StandardScaler was fitted without feature names\n",
      "  warnings.warn(\n",
      "/home/sfgary/.miniconda3c/envs/superlearner/lib/python3.9/site-packages/sklearn/base.py:457: UserWarning: X has feature names, but StandardScaler was fitted without feature names\n",
      "  warnings.warn(\n",
      "/home/sfgary/.miniconda3c/envs/superlearner/lib/python3.9/site-packages/sklearn/base.py:457: UserWarning: X has feature names, but MinMaxScaler was fitted without feature names\n",
      "  warnings.warn(\n",
      "/home/sfgary/.miniconda3c/envs/superlearner/lib/python3.9/site-packages/sklearn/base.py:457: UserWarning: X has feature names, but MinMaxScaler was fitted without feature names\n",
      "  warnings.warn(\n"
     ]
    },
    {
     "name": "stdout",
     "output_type": "stream",
     "text": [
      "Working on SuperLearner ensemble member 5\n"
     ]
    },
    {
     "name": "stderr",
     "output_type": "stream",
     "text": [
      "/home/sfgary/.miniconda3c/envs/superlearner/lib/python3.9/site-packages/sklearn/base.py:457: UserWarning: X has feature names, but StandardScaler was fitted without feature names\n",
      "  warnings.warn(\n",
      "/home/sfgary/.miniconda3c/envs/superlearner/lib/python3.9/site-packages/sklearn/base.py:457: UserWarning: X has feature names, but MinMaxScaler was fitted without feature names\n",
      "  warnings.warn(\n",
      "/home/sfgary/.miniconda3c/envs/superlearner/lib/python3.9/site-packages/sklearn/base.py:457: UserWarning: X has feature names, but MinMaxScaler was fitted without feature names\n",
      "  warnings.warn(\n",
      "/home/sfgary/.miniconda3c/envs/superlearner/lib/python3.9/site-packages/sklearn/base.py:457: UserWarning: X has feature names, but MinMaxScaler was fitted without feature names\n",
      "  warnings.warn(\n",
      "/home/sfgary/.miniconda3c/envs/superlearner/lib/python3.9/site-packages/sklearn/base.py:457: UserWarning: X has feature names, but MinMaxScaler was fitted without feature names\n",
      "  warnings.warn(\n",
      "/home/sfgary/.miniconda3c/envs/superlearner/lib/python3.9/site-packages/sklearn/base.py:457: UserWarning: X has feature names, but MinMaxScaler was fitted without feature names\n",
      "  warnings.warn(\n",
      "/home/sfgary/.miniconda3c/envs/superlearner/lib/python3.9/site-packages/sklearn/base.py:457: UserWarning: X has feature names, but MinMaxScaler was fitted without feature names\n",
      "  warnings.warn(\n",
      "/home/sfgary/.miniconda3c/envs/superlearner/lib/python3.9/site-packages/sklearn/base.py:457: UserWarning: X has feature names, but MinMaxScaler was fitted without feature names\n",
      "  warnings.warn(\n",
      "/home/sfgary/.miniconda3c/envs/superlearner/lib/python3.9/site-packages/sklearn/base.py:457: UserWarning: X has feature names, but StandardScaler was fitted without feature names\n",
      "  warnings.warn(\n",
      "/home/sfgary/.miniconda3c/envs/superlearner/lib/python3.9/site-packages/sklearn/base.py:457: UserWarning: X has feature names, but StandardScaler was fitted without feature names\n",
      "  warnings.warn(\n",
      "/home/sfgary/.miniconda3c/envs/superlearner/lib/python3.9/site-packages/sklearn/base.py:457: UserWarning: X has feature names, but MinMaxScaler was fitted without feature names\n",
      "  warnings.warn(\n",
      "/home/sfgary/.miniconda3c/envs/superlearner/lib/python3.9/site-packages/sklearn/base.py:457: UserWarning: X has feature names, but StandardScaler was fitted without feature names\n",
      "  warnings.warn(\n",
      "/home/sfgary/.miniconda3c/envs/superlearner/lib/python3.9/site-packages/sklearn/base.py:457: UserWarning: X has feature names, but StandardScaler was fitted without feature names\n",
      "  warnings.warn(\n",
      "/home/sfgary/.miniconda3c/envs/superlearner/lib/python3.9/site-packages/sklearn/base.py:457: UserWarning: X has feature names, but MinMaxScaler was fitted without feature names\n",
      "  warnings.warn(\n",
      "/home/sfgary/.miniconda3c/envs/superlearner/lib/python3.9/site-packages/sklearn/base.py:457: UserWarning: X has feature names, but MinMaxScaler was fitted without feature names\n",
      "  warnings.warn(\n"
     ]
    },
    {
     "name": "stdout",
     "output_type": "stream",
     "text": [
      "Working on SuperLearner ensemble member 6\n"
     ]
    },
    {
     "name": "stderr",
     "output_type": "stream",
     "text": [
      "/home/sfgary/.miniconda3c/envs/superlearner/lib/python3.9/site-packages/sklearn/base.py:457: UserWarning: X has feature names, but StandardScaler was fitted without feature names\n",
      "  warnings.warn(\n",
      "/home/sfgary/.miniconda3c/envs/superlearner/lib/python3.9/site-packages/sklearn/base.py:457: UserWarning: X has feature names, but MinMaxScaler was fitted without feature names\n",
      "  warnings.warn(\n",
      "/home/sfgary/.miniconda3c/envs/superlearner/lib/python3.9/site-packages/sklearn/base.py:457: UserWarning: X has feature names, but MinMaxScaler was fitted without feature names\n",
      "  warnings.warn(\n",
      "/home/sfgary/.miniconda3c/envs/superlearner/lib/python3.9/site-packages/sklearn/base.py:457: UserWarning: X has feature names, but MinMaxScaler was fitted without feature names\n",
      "  warnings.warn(\n",
      "/home/sfgary/.miniconda3c/envs/superlearner/lib/python3.9/site-packages/sklearn/base.py:457: UserWarning: X has feature names, but MinMaxScaler was fitted without feature names\n",
      "  warnings.warn(\n",
      "/home/sfgary/.miniconda3c/envs/superlearner/lib/python3.9/site-packages/sklearn/base.py:457: UserWarning: X has feature names, but MinMaxScaler was fitted without feature names\n",
      "  warnings.warn(\n",
      "/home/sfgary/.miniconda3c/envs/superlearner/lib/python3.9/site-packages/sklearn/base.py:457: UserWarning: X has feature names, but MinMaxScaler was fitted without feature names\n",
      "  warnings.warn(\n",
      "/home/sfgary/.miniconda3c/envs/superlearner/lib/python3.9/site-packages/sklearn/base.py:457: UserWarning: X has feature names, but MinMaxScaler was fitted without feature names\n",
      "  warnings.warn(\n",
      "/home/sfgary/.miniconda3c/envs/superlearner/lib/python3.9/site-packages/sklearn/base.py:457: UserWarning: X has feature names, but StandardScaler was fitted without feature names\n",
      "  warnings.warn(\n",
      "/home/sfgary/.miniconda3c/envs/superlearner/lib/python3.9/site-packages/sklearn/base.py:457: UserWarning: X has feature names, but StandardScaler was fitted without feature names\n",
      "  warnings.warn(\n",
      "/home/sfgary/.miniconda3c/envs/superlearner/lib/python3.9/site-packages/sklearn/base.py:457: UserWarning: X has feature names, but MinMaxScaler was fitted without feature names\n",
      "  warnings.warn(\n",
      "/home/sfgary/.miniconda3c/envs/superlearner/lib/python3.9/site-packages/sklearn/base.py:457: UserWarning: X has feature names, but StandardScaler was fitted without feature names\n",
      "  warnings.warn(\n",
      "/home/sfgary/.miniconda3c/envs/superlearner/lib/python3.9/site-packages/sklearn/base.py:457: UserWarning: X has feature names, but StandardScaler was fitted without feature names\n",
      "  warnings.warn(\n",
      "/home/sfgary/.miniconda3c/envs/superlearner/lib/python3.9/site-packages/sklearn/base.py:457: UserWarning: X has feature names, but MinMaxScaler was fitted without feature names\n",
      "  warnings.warn(\n",
      "/home/sfgary/.miniconda3c/envs/superlearner/lib/python3.9/site-packages/sklearn/base.py:457: UserWarning: X has feature names, but MinMaxScaler was fitted without feature names\n",
      "  warnings.warn(\n"
     ]
    },
    {
     "name": "stdout",
     "output_type": "stream",
     "text": [
      "Working on SuperLearner ensemble member 7\n"
     ]
    },
    {
     "name": "stderr",
     "output_type": "stream",
     "text": [
      "/home/sfgary/.miniconda3c/envs/superlearner/lib/python3.9/site-packages/sklearn/base.py:457: UserWarning: X has feature names, but StandardScaler was fitted without feature names\n",
      "  warnings.warn(\n",
      "/home/sfgary/.miniconda3c/envs/superlearner/lib/python3.9/site-packages/sklearn/base.py:457: UserWarning: X has feature names, but MinMaxScaler was fitted without feature names\n",
      "  warnings.warn(\n",
      "/home/sfgary/.miniconda3c/envs/superlearner/lib/python3.9/site-packages/sklearn/base.py:457: UserWarning: X has feature names, but MinMaxScaler was fitted without feature names\n",
      "  warnings.warn(\n",
      "/home/sfgary/.miniconda3c/envs/superlearner/lib/python3.9/site-packages/sklearn/base.py:457: UserWarning: X has feature names, but MinMaxScaler was fitted without feature names\n",
      "  warnings.warn(\n",
      "/home/sfgary/.miniconda3c/envs/superlearner/lib/python3.9/site-packages/sklearn/base.py:457: UserWarning: X has feature names, but MinMaxScaler was fitted without feature names\n",
      "  warnings.warn(\n",
      "/home/sfgary/.miniconda3c/envs/superlearner/lib/python3.9/site-packages/sklearn/base.py:457: UserWarning: X has feature names, but MinMaxScaler was fitted without feature names\n",
      "  warnings.warn(\n",
      "/home/sfgary/.miniconda3c/envs/superlearner/lib/python3.9/site-packages/sklearn/base.py:457: UserWarning: X has feature names, but MinMaxScaler was fitted without feature names\n",
      "  warnings.warn(\n",
      "/home/sfgary/.miniconda3c/envs/superlearner/lib/python3.9/site-packages/sklearn/base.py:457: UserWarning: X has feature names, but MinMaxScaler was fitted without feature names\n",
      "  warnings.warn(\n",
      "/home/sfgary/.miniconda3c/envs/superlearner/lib/python3.9/site-packages/sklearn/base.py:457: UserWarning: X has feature names, but StandardScaler was fitted without feature names\n",
      "  warnings.warn(\n",
      "/home/sfgary/.miniconda3c/envs/superlearner/lib/python3.9/site-packages/sklearn/base.py:457: UserWarning: X has feature names, but StandardScaler was fitted without feature names\n",
      "  warnings.warn(\n",
      "/home/sfgary/.miniconda3c/envs/superlearner/lib/python3.9/site-packages/sklearn/base.py:457: UserWarning: X has feature names, but MinMaxScaler was fitted without feature names\n",
      "  warnings.warn(\n",
      "/home/sfgary/.miniconda3c/envs/superlearner/lib/python3.9/site-packages/sklearn/base.py:457: UserWarning: X has feature names, but StandardScaler was fitted without feature names\n",
      "  warnings.warn(\n",
      "/home/sfgary/.miniconda3c/envs/superlearner/lib/python3.9/site-packages/sklearn/base.py:457: UserWarning: X has feature names, but StandardScaler was fitted without feature names\n",
      "  warnings.warn(\n",
      "/home/sfgary/.miniconda3c/envs/superlearner/lib/python3.9/site-packages/sklearn/base.py:457: UserWarning: X has feature names, but MinMaxScaler was fitted without feature names\n",
      "  warnings.warn(\n",
      "/home/sfgary/.miniconda3c/envs/superlearner/lib/python3.9/site-packages/sklearn/base.py:457: UserWarning: X has feature names, but MinMaxScaler was fitted without feature names\n",
      "  warnings.warn(\n"
     ]
    },
    {
     "name": "stdout",
     "output_type": "stream",
     "text": [
      "Working on SuperLearner ensemble member 8\n"
     ]
    },
    {
     "name": "stderr",
     "output_type": "stream",
     "text": [
      "/home/sfgary/.miniconda3c/envs/superlearner/lib/python3.9/site-packages/sklearn/base.py:457: UserWarning: X has feature names, but StandardScaler was fitted without feature names\n",
      "  warnings.warn(\n",
      "/home/sfgary/.miniconda3c/envs/superlearner/lib/python3.9/site-packages/sklearn/base.py:457: UserWarning: X has feature names, but MinMaxScaler was fitted without feature names\n",
      "  warnings.warn(\n",
      "/home/sfgary/.miniconda3c/envs/superlearner/lib/python3.9/site-packages/sklearn/base.py:457: UserWarning: X has feature names, but MinMaxScaler was fitted without feature names\n",
      "  warnings.warn(\n",
      "/home/sfgary/.miniconda3c/envs/superlearner/lib/python3.9/site-packages/sklearn/base.py:457: UserWarning: X has feature names, but MinMaxScaler was fitted without feature names\n",
      "  warnings.warn(\n",
      "/home/sfgary/.miniconda3c/envs/superlearner/lib/python3.9/site-packages/sklearn/base.py:457: UserWarning: X has feature names, but MinMaxScaler was fitted without feature names\n",
      "  warnings.warn(\n",
      "/home/sfgary/.miniconda3c/envs/superlearner/lib/python3.9/site-packages/sklearn/base.py:457: UserWarning: X has feature names, but MinMaxScaler was fitted without feature names\n",
      "  warnings.warn(\n",
      "/home/sfgary/.miniconda3c/envs/superlearner/lib/python3.9/site-packages/sklearn/base.py:457: UserWarning: X has feature names, but MinMaxScaler was fitted without feature names\n",
      "  warnings.warn(\n",
      "/home/sfgary/.miniconda3c/envs/superlearner/lib/python3.9/site-packages/sklearn/base.py:457: UserWarning: X has feature names, but MinMaxScaler was fitted without feature names\n",
      "  warnings.warn(\n",
      "/home/sfgary/.miniconda3c/envs/superlearner/lib/python3.9/site-packages/sklearn/base.py:457: UserWarning: X has feature names, but StandardScaler was fitted without feature names\n",
      "  warnings.warn(\n",
      "/home/sfgary/.miniconda3c/envs/superlearner/lib/python3.9/site-packages/sklearn/base.py:457: UserWarning: X has feature names, but StandardScaler was fitted without feature names\n",
      "  warnings.warn(\n",
      "/home/sfgary/.miniconda3c/envs/superlearner/lib/python3.9/site-packages/sklearn/base.py:457: UserWarning: X has feature names, but MinMaxScaler was fitted without feature names\n",
      "  warnings.warn(\n",
      "/home/sfgary/.miniconda3c/envs/superlearner/lib/python3.9/site-packages/sklearn/base.py:457: UserWarning: X has feature names, but StandardScaler was fitted without feature names\n",
      "  warnings.warn(\n",
      "/home/sfgary/.miniconda3c/envs/superlearner/lib/python3.9/site-packages/sklearn/base.py:457: UserWarning: X has feature names, but StandardScaler was fitted without feature names\n",
      "  warnings.warn(\n",
      "/home/sfgary/.miniconda3c/envs/superlearner/lib/python3.9/site-packages/sklearn/base.py:457: UserWarning: X has feature names, but MinMaxScaler was fitted without feature names\n",
      "  warnings.warn(\n",
      "/home/sfgary/.miniconda3c/envs/superlearner/lib/python3.9/site-packages/sklearn/base.py:457: UserWarning: X has feature names, but MinMaxScaler was fitted without feature names\n",
      "  warnings.warn(\n"
     ]
    },
    {
     "name": "stdout",
     "output_type": "stream",
     "text": [
      "Working on SuperLearner ensemble member 9\n"
     ]
    },
    {
     "name": "stderr",
     "output_type": "stream",
     "text": [
      "/home/sfgary/.miniconda3c/envs/superlearner/lib/python3.9/site-packages/sklearn/base.py:457: UserWarning: X has feature names, but StandardScaler was fitted without feature names\n",
      "  warnings.warn(\n",
      "/home/sfgary/.miniconda3c/envs/superlearner/lib/python3.9/site-packages/sklearn/base.py:457: UserWarning: X has feature names, but MinMaxScaler was fitted without feature names\n",
      "  warnings.warn(\n",
      "/home/sfgary/.miniconda3c/envs/superlearner/lib/python3.9/site-packages/sklearn/base.py:457: UserWarning: X has feature names, but MinMaxScaler was fitted without feature names\n",
      "  warnings.warn(\n",
      "/home/sfgary/.miniconda3c/envs/superlearner/lib/python3.9/site-packages/sklearn/base.py:457: UserWarning: X has feature names, but MinMaxScaler was fitted without feature names\n",
      "  warnings.warn(\n",
      "/home/sfgary/.miniconda3c/envs/superlearner/lib/python3.9/site-packages/sklearn/base.py:457: UserWarning: X has feature names, but MinMaxScaler was fitted without feature names\n",
      "  warnings.warn(\n",
      "/home/sfgary/.miniconda3c/envs/superlearner/lib/python3.9/site-packages/sklearn/base.py:457: UserWarning: X has feature names, but MinMaxScaler was fitted without feature names\n",
      "  warnings.warn(\n",
      "/home/sfgary/.miniconda3c/envs/superlearner/lib/python3.9/site-packages/sklearn/base.py:457: UserWarning: X has feature names, but MinMaxScaler was fitted without feature names\n",
      "  warnings.warn(\n",
      "/home/sfgary/.miniconda3c/envs/superlearner/lib/python3.9/site-packages/sklearn/base.py:457: UserWarning: X has feature names, but MinMaxScaler was fitted without feature names\n",
      "  warnings.warn(\n",
      "/home/sfgary/.miniconda3c/envs/superlearner/lib/python3.9/site-packages/sklearn/base.py:457: UserWarning: X has feature names, but StandardScaler was fitted without feature names\n",
      "  warnings.warn(\n",
      "/home/sfgary/.miniconda3c/envs/superlearner/lib/python3.9/site-packages/sklearn/base.py:457: UserWarning: X has feature names, but StandardScaler was fitted without feature names\n",
      "  warnings.warn(\n",
      "/home/sfgary/.miniconda3c/envs/superlearner/lib/python3.9/site-packages/sklearn/base.py:457: UserWarning: X has feature names, but MinMaxScaler was fitted without feature names\n",
      "  warnings.warn(\n",
      "/home/sfgary/.miniconda3c/envs/superlearner/lib/python3.9/site-packages/sklearn/base.py:457: UserWarning: X has feature names, but StandardScaler was fitted without feature names\n",
      "  warnings.warn(\n",
      "/home/sfgary/.miniconda3c/envs/superlearner/lib/python3.9/site-packages/sklearn/base.py:457: UserWarning: X has feature names, but StandardScaler was fitted without feature names\n",
      "  warnings.warn(\n",
      "/home/sfgary/.miniconda3c/envs/superlearner/lib/python3.9/site-packages/sklearn/base.py:457: UserWarning: X has feature names, but MinMaxScaler was fitted without feature names\n",
      "  warnings.warn(\n",
      "/home/sfgary/.miniconda3c/envs/superlearner/lib/python3.9/site-packages/sklearn/base.py:457: UserWarning: X has feature names, but MinMaxScaler was fitted without feature names\n",
      "  warnings.warn(\n"
     ]
    }
   ],
   "source": [
    "# Set number of SuperLearner ensemble members\n",
    "num_sl = 10\n",
    "\n",
    "# Initialize data frame list to hold output\n",
    "sl_predict_output_df_list = []\n",
    "\n",
    "# Loop over all ensemble members\n",
    "for ll in range(0,num_sl):\n",
    "    \n",
    "    print(\"Working on SuperLearner ensemble member \"+str(ll))\n",
    "    \n",
    "    # Load the SuperLearner model from .pkl\n",
    "    model_dir = repo_prefix+repo_name+\"/ml_models/sl_\"+str(ll)\n",
    "    sys.path.append(model_dir)\n",
    "    with open(model_dir+'/SuperLearners.pkl','rb') as file_object:\n",
    "        superlearner = pickle.load(file_object)\n",
    "\n",
    "    # OPTIONAL: For a given output variable, list the models:\n",
    "    predict_var = 'Normalized_Respiration_Rate_mg_DO_per_H_per_L_sediment'\n",
    "    #print(\"Submodels within SuperLearner and their weights:\")\n",
    "    #list_models = list(superlearner[predict_var].named_estimators_.keys())\n",
    "    #print(list_models)\n",
    "    \n",
    "    # OPTIONAL: The following only works for the scipy.optimize.nnls\n",
    "    # stacking regressor, not the sklearn stacking regressors.\n",
    "    #print(superlearner[predict_var].final_estimator_.weights_)\n",
    "    \n",
    "    # Make predictions\n",
    "    sl_predict_output_df_list.append(superlearner[predict_var].predict(predict_df))"
   ]
  },
  {
   "cell_type": "markdown",
   "id": "bcbc7b15-bf5a-4d07-bf4c-c3c950f153ce",
   "metadata": {},
   "source": [
    "# Stage 1 (RA only): Consolidate over ensemble members"
   ]
  },
  {
   "cell_type": "code",
   "execution_count": 5,
   "id": "3fd83faf-0a2d-4634-a7c1-2c74bdaaf2f5",
   "metadata": {
    "tags": []
   },
   "outputs": [],
   "source": [
    "# Didn't realize that .predict output is a pure numpy array and not a DF.\n",
    "# I don't want to rerun the cell above (10 mins) so consolidate to DF here.\n",
    "sl_predict_output = pd.DataFrame(columns=['sl_0','sl_1','sl_2','sl_3','sl_4','sl_5','sl_6','sl_7','sl_8','sl_9'])\n",
    "\n",
    "# Loop over all ensemble members\n",
    "for ll in range(0,num_sl):\n",
    "    sl_predict_output['sl_'+str(ll)] = sl_predict_output_df_list[ll]\n",
    "\n",
    "# Grab mean and std\n",
    "sl_predict_output['mean'] = sl_predict_output.mean(axis=1)\n",
    "sl_predict_output['std'] = sl_predict_output.std(axis=1)\n",
    "\n",
    "# Paste the ixy info back into the file so we can plot the network of rivers\n",
    "# with GMT (not this notebook). Reset index to row order\n",
    "out = pd.concat([predict_ixy, sl_predict_output], axis='columns')\n",
    "out.to_csv('grdb_'+branch+'_predictions.csv')"
   ]
  },
  {
   "cell_type": "markdown",
   "id": "a375c9ac-19dd-4270-a3a5-0444b8ae8116",
   "metadata": {},
   "source": [
    "# Switch to Stage 2: Predict over the RiverAtlas+GLORICH merged sites\n",
    "\n",
    "## Stage 2 (RA+GH): Specify repository and branch to work on"
   ]
  },
  {
   "cell_type": "code",
   "execution_count": 24,
   "id": "bf83cd71-a9ca-44cf-aace-8e735e4fc6d3",
   "metadata": {
    "tags": []
   },
   "outputs": [
    {
     "name": "stdout",
     "output_type": "stream",
     "text": [
      "fatal: destination path 'sl-archive-whondrs' already exists and is not an empty directory.\n",
      "Checking out files: 100% (274/274), done.\n",
      "Switched to branch 'S19S-SSS-log10-extrap-r01a'\n"
     ]
    }
   ],
   "source": [
    "# Using ~ here for $HOME will cause pickle.load failures later\n",
    "# so must use absolute path.\n",
    "repo_prefix = '/home/sfgary/tmp/'\n",
    "repo_name = 'sl-archive-whondrs'\n",
    "repo_url = 'https://github.com/parallelworks/'+repo_name\n",
    "branch = 'S19S-SSS-log10-extrap-r01a'\n",
    "\n",
    "# Grab the data and get onto the branch if not already there\n",
    "! mkdir -p {repo_prefix}\n",
    "! cd {repo_prefix}; git clone {repo_url}\n",
    "! cd {repo_prefix}/{repo_name}; git checkout {branch}"
   ]
  },
  {
   "cell_type": "markdown",
   "id": "22261b6a-434b-4286-a0d9-5dbad86387e9",
   "metadata": {},
   "source": [
    "## Stage 2 (RA+GH): Load data that will be used to make predictions"
   ]
  },
  {
   "cell_type": "code",
   "execution_count": 25,
   "id": "e6eb19fa-9b4b-44fb-aa91-ab45a69fdae5",
   "metadata": {
    "tags": []
   },
   "outputs": [],
   "source": [
    "# This is a smaller dataset and loads from a single file\n",
    "# Data are at a single point (not a river segment with\n",
    "# minimum of 2 points)\n",
    "predict_df = pd.read_csv('RiverAtlas_GLORICH_colocated_for_prediction.csv')\n",
    "\n",
    "# Using this line of code: np.sum(np.isnan(predict_df))\n",
    "# there are no missing temperature values, 84 missing\n",
    "# pH, 7534 missing DO, 4797 missing DO%sat and lots of\n",
    "# missing TOC.  So, first off, we're just going to ignore TOC:\n",
    "predict_df.pop('TOC')\n",
    "\n",
    "# Also, these values were not used in the training of the\n",
    "# ML model since they hold duplicate or irrelevant information\n",
    "predict_df.pop('my_lm')\n",
    "predict_df.pop('STAT_ID')\n",
    "predict_df.pop('dist_m')\n",
    "\n",
    "#============================================\n",
    "# First attempt - reconstruct as much oxygen\n",
    "# as possible\n",
    "#============================================\n",
    "if ( 1 == 1 ):\n",
    "    # Attempt to reconstruct DO from temp and DO%sat.\n",
    "    # Loop over all rows\n",
    "    for index, row in predict_df.iterrows():\n",
    "\n",
    "        # Must have temperature to attempt reconstruction\n",
    "        if ( not np.isnan(row['Mean_Temp_Deg_C']) ):\n",
    "            o2_sat_mg_per_l = o2sat.sw_o2sat(0.0, row['Mean_Temp_Deg_C'])*1.4291\n",
    "        \n",
    "            if (np.isnan(row['Mean_DO_mg_per_L']) and not np.isnan(row['Mean_DO_percent_saturation'])):\n",
    "                # Compute any missing DO_mg_per_L from T and DOSAT  \n",
    "                predict_df.at[index,'Mean_DO_mg_per_L'] = row['Mean_DO_percent_saturation']*o2_sat_mg_per_l/100.0\n",
    "            elif (not np.isnan(row['Mean_DO_mg_per_L']) and np.isnan(row['Mean_DO_percent_saturation'])):\n",
    "                # Compute any missing DOSAT from T and DO_mg_per_L.\n",
    "                predict_df.at[index,'Mean_DO_percent_saturation'] = 100.0*row['Mean_DO_mg_per_L']/o2_sat_mg_per_l \n",
    "\n",
    "# Result: still  have 84 missing pH, and missing DO and DO%sat\n",
    "# are both at 4350 points. So a substantial amount of points\n",
    "# will have no DO information. Predictions with\n",
    "# ML model have distinct strong respiration rate bias.\n",
    "\n",
    "#================================================\n",
    "# Second attempt - skip all missing values\n",
    "#================================================\n",
    "if ( 1 == 1 ):\n",
    "    predict_df.dropna(axis='index', how='any', inplace=True)\n",
    "\n",
    "# Result: only 2540 rows remain. Predictions with ML\n",
    "# model have even stronger distinct respiration rate bais.\n",
    "\n",
    "#================================================\n",
    "# Third attempt - attempt to recover oxygen, above\n",
    "# but also drop any missing values, also above.\n",
    "# Then, shift the mean T, pH, DO, and DOSAT by\n",
    "# the difference between the WHONDRS and GLORICH\n",
    "# data sets so there is no mean bias. Biases from\n",
    "# fig09_explore_WHONDRS_GLORICH_bias.ipynb\n",
    "#================================================\n",
    "\n",
    "# If set to 0, do the recovery and drop missing\n",
    "# filters above, but leave the GLORICH insitu\n",
    "# values unadjusted.\n",
    "\n",
    "if ( 1 == 1 ):\n",
    "    predict_df['Mean_Temp_Deg_C'] = predict_df['Mean_Temp_Deg_C'] + (2.08407431976158)\n",
    "    predict_df['pH'] = predict_df['pH'] + (-0.18662680695643363)\n",
    "    predict_df['Mean_DO_mg_per_L'] = predict_df['Mean_DO_mg_per_L'] + (-1.332851782847161)\n",
    "    predict_df['Mean_DO_percent_saturation'] = predict_df['Mean_DO_percent_saturation'] + (-4.177509541392979)\n",
    "\n",
    "# Result: 6170 rows remain. For S19S-SSS-log10-extrap-r01,\n",
    "# this adjustment does not make a difference. So remove\n",
    "# the adjustment when evaluating S19S-SSS-log10-extrap-r01a.\n",
    "\n",
    "# For generality with other data sets, replace any NaN\n",
    "# with the mean value of the whole column. \n",
    "predict_df.fillna(predict_df.mean(), inplace = True)\n",
    "\n",
    "# Store the Sample_ID, Sample_Longitude, and Sample_Latitude \n",
    "# in a separate dataframe for integration later\n",
    "# These values are NOT used by the ML model and and such should be removed\n",
    "# from the DF that is going to be used to make predictions.\n",
    "predict_ixy = pd.DataFrame(columns=['Sample_ID','Sample_Longitude','Sample_Latitude'])\n",
    "predict_ixy['Sample_ID'] = predict_df.pop('Sample_ID')\n",
    "predict_ixy['Sample_Longitude'] = predict_df.pop('Sample_Longitude')\n",
    "predict_ixy['Sample_Latitude'] = predict_df.pop('Sample_Latitude')\n",
    "\n",
    "# Reset the index to increment to column order - this will match the\n",
    "# output from the predict stage later.\n",
    "predict_ixy.reset_index(drop=True,inplace=True)"
   ]
  },
  {
   "cell_type": "markdown",
   "id": "d3f56466-59a2-49fb-8b8f-d8fd85759c45",
   "metadata": {
    "tags": []
   },
   "source": [
    "## Stage 2 (RA+GH): Make predictions"
   ]
  },
  {
   "cell_type": "code",
   "execution_count": 26,
   "id": "bdc09810-881b-44fc-9009-891c6d25d986",
   "metadata": {
    "tags": []
   },
   "outputs": [
    {
     "name": "stdout",
     "output_type": "stream",
     "text": [
      "Working on SuperLearner ensemble member 0\n"
     ]
    },
    {
     "name": "stderr",
     "output_type": "stream",
     "text": [
      "/home/sfgary/.miniconda3c/envs/superlearner/lib/python3.9/site-packages/sklearn/base.py:457: UserWarning: X has feature names, but StandardScaler was fitted without feature names\n",
      "  warnings.warn(\n",
      "/home/sfgary/.miniconda3c/envs/superlearner/lib/python3.9/site-packages/sklearn/base.py:457: UserWarning: X has feature names, but MinMaxScaler was fitted without feature names\n",
      "  warnings.warn(\n",
      "/home/sfgary/.miniconda3c/envs/superlearner/lib/python3.9/site-packages/sklearn/base.py:457: UserWarning: X has feature names, but MinMaxScaler was fitted without feature names\n",
      "  warnings.warn(\n",
      "/home/sfgary/.miniconda3c/envs/superlearner/lib/python3.9/site-packages/sklearn/base.py:457: UserWarning: X has feature names, but MinMaxScaler was fitted without feature names\n",
      "  warnings.warn(\n",
      "/home/sfgary/.miniconda3c/envs/superlearner/lib/python3.9/site-packages/sklearn/base.py:457: UserWarning: X has feature names, but MinMaxScaler was fitted without feature names\n",
      "  warnings.warn(\n",
      "/home/sfgary/.miniconda3c/envs/superlearner/lib/python3.9/site-packages/sklearn/base.py:457: UserWarning: X has feature names, but MinMaxScaler was fitted without feature names\n",
      "  warnings.warn(\n",
      "/home/sfgary/.miniconda3c/envs/superlearner/lib/python3.9/site-packages/sklearn/base.py:457: UserWarning: X has feature names, but MinMaxScaler was fitted without feature names\n",
      "  warnings.warn(\n",
      "/home/sfgary/.miniconda3c/envs/superlearner/lib/python3.9/site-packages/sklearn/base.py:457: UserWarning: X has feature names, but MinMaxScaler was fitted without feature names\n",
      "  warnings.warn(\n",
      "/home/sfgary/.miniconda3c/envs/superlearner/lib/python3.9/site-packages/sklearn/base.py:457: UserWarning: X has feature names, but StandardScaler was fitted without feature names\n",
      "  warnings.warn(\n",
      "/home/sfgary/.miniconda3c/envs/superlearner/lib/python3.9/site-packages/sklearn/base.py:457: UserWarning: X has feature names, but StandardScaler was fitted without feature names\n",
      "  warnings.warn(\n",
      "/home/sfgary/.miniconda3c/envs/superlearner/lib/python3.9/site-packages/sklearn/base.py:457: UserWarning: X has feature names, but MinMaxScaler was fitted without feature names\n",
      "  warnings.warn(\n",
      "/home/sfgary/.miniconda3c/envs/superlearner/lib/python3.9/site-packages/sklearn/base.py:457: UserWarning: X has feature names, but StandardScaler was fitted without feature names\n",
      "  warnings.warn(\n",
      "/home/sfgary/.miniconda3c/envs/superlearner/lib/python3.9/site-packages/sklearn/base.py:457: UserWarning: X has feature names, but StandardScaler was fitted without feature names\n",
      "  warnings.warn(\n",
      "/home/sfgary/.miniconda3c/envs/superlearner/lib/python3.9/site-packages/sklearn/base.py:457: UserWarning: X has feature names, but MinMaxScaler was fitted without feature names\n",
      "  warnings.warn(\n",
      "/home/sfgary/.miniconda3c/envs/superlearner/lib/python3.9/site-packages/sklearn/base.py:457: UserWarning: X has feature names, but MinMaxScaler was fitted without feature names\n",
      "  warnings.warn(\n"
     ]
    },
    {
     "name": "stdout",
     "output_type": "stream",
     "text": [
      "Working on SuperLearner ensemble member 1\n"
     ]
    },
    {
     "name": "stderr",
     "output_type": "stream",
     "text": [
      "/home/sfgary/.miniconda3c/envs/superlearner/lib/python3.9/site-packages/sklearn/base.py:457: UserWarning: X has feature names, but StandardScaler was fitted without feature names\n",
      "  warnings.warn(\n",
      "/home/sfgary/.miniconda3c/envs/superlearner/lib/python3.9/site-packages/sklearn/base.py:457: UserWarning: X has feature names, but MinMaxScaler was fitted without feature names\n",
      "  warnings.warn(\n",
      "/home/sfgary/.miniconda3c/envs/superlearner/lib/python3.9/site-packages/sklearn/base.py:457: UserWarning: X has feature names, but MinMaxScaler was fitted without feature names\n",
      "  warnings.warn(\n",
      "/home/sfgary/.miniconda3c/envs/superlearner/lib/python3.9/site-packages/sklearn/base.py:457: UserWarning: X has feature names, but MinMaxScaler was fitted without feature names\n",
      "  warnings.warn(\n",
      "/home/sfgary/.miniconda3c/envs/superlearner/lib/python3.9/site-packages/sklearn/base.py:457: UserWarning: X has feature names, but MinMaxScaler was fitted without feature names\n",
      "  warnings.warn(\n",
      "/home/sfgary/.miniconda3c/envs/superlearner/lib/python3.9/site-packages/sklearn/base.py:457: UserWarning: X has feature names, but MinMaxScaler was fitted without feature names\n",
      "  warnings.warn(\n",
      "/home/sfgary/.miniconda3c/envs/superlearner/lib/python3.9/site-packages/sklearn/base.py:457: UserWarning: X has feature names, but MinMaxScaler was fitted without feature names\n",
      "  warnings.warn(\n",
      "/home/sfgary/.miniconda3c/envs/superlearner/lib/python3.9/site-packages/sklearn/base.py:457: UserWarning: X has feature names, but MinMaxScaler was fitted without feature names\n",
      "  warnings.warn(\n",
      "/home/sfgary/.miniconda3c/envs/superlearner/lib/python3.9/site-packages/sklearn/base.py:457: UserWarning: X has feature names, but StandardScaler was fitted without feature names\n",
      "  warnings.warn(\n",
      "/home/sfgary/.miniconda3c/envs/superlearner/lib/python3.9/site-packages/sklearn/base.py:457: UserWarning: X has feature names, but StandardScaler was fitted without feature names\n",
      "  warnings.warn(\n",
      "/home/sfgary/.miniconda3c/envs/superlearner/lib/python3.9/site-packages/sklearn/base.py:457: UserWarning: X has feature names, but MinMaxScaler was fitted without feature names\n",
      "  warnings.warn(\n",
      "/home/sfgary/.miniconda3c/envs/superlearner/lib/python3.9/site-packages/sklearn/base.py:457: UserWarning: X has feature names, but StandardScaler was fitted without feature names\n",
      "  warnings.warn(\n",
      "/home/sfgary/.miniconda3c/envs/superlearner/lib/python3.9/site-packages/sklearn/base.py:457: UserWarning: X has feature names, but StandardScaler was fitted without feature names\n",
      "  warnings.warn(\n",
      "/home/sfgary/.miniconda3c/envs/superlearner/lib/python3.9/site-packages/sklearn/base.py:457: UserWarning: X has feature names, but MinMaxScaler was fitted without feature names\n",
      "  warnings.warn(\n",
      "/home/sfgary/.miniconda3c/envs/superlearner/lib/python3.9/site-packages/sklearn/base.py:457: UserWarning: X has feature names, but MinMaxScaler was fitted without feature names\n",
      "  warnings.warn(\n"
     ]
    },
    {
     "name": "stdout",
     "output_type": "stream",
     "text": [
      "Working on SuperLearner ensemble member 2\n"
     ]
    },
    {
     "name": "stderr",
     "output_type": "stream",
     "text": [
      "/home/sfgary/.miniconda3c/envs/superlearner/lib/python3.9/site-packages/sklearn/base.py:457: UserWarning: X has feature names, but StandardScaler was fitted without feature names\n",
      "  warnings.warn(\n",
      "/home/sfgary/.miniconda3c/envs/superlearner/lib/python3.9/site-packages/sklearn/base.py:457: UserWarning: X has feature names, but MinMaxScaler was fitted without feature names\n",
      "  warnings.warn(\n",
      "/home/sfgary/.miniconda3c/envs/superlearner/lib/python3.9/site-packages/sklearn/base.py:457: UserWarning: X has feature names, but MinMaxScaler was fitted without feature names\n",
      "  warnings.warn(\n",
      "/home/sfgary/.miniconda3c/envs/superlearner/lib/python3.9/site-packages/sklearn/base.py:457: UserWarning: X has feature names, but MinMaxScaler was fitted without feature names\n",
      "  warnings.warn(\n",
      "/home/sfgary/.miniconda3c/envs/superlearner/lib/python3.9/site-packages/sklearn/base.py:457: UserWarning: X has feature names, but MinMaxScaler was fitted without feature names\n",
      "  warnings.warn(\n",
      "/home/sfgary/.miniconda3c/envs/superlearner/lib/python3.9/site-packages/sklearn/base.py:457: UserWarning: X has feature names, but MinMaxScaler was fitted without feature names\n",
      "  warnings.warn(\n",
      "/home/sfgary/.miniconda3c/envs/superlearner/lib/python3.9/site-packages/sklearn/base.py:457: UserWarning: X has feature names, but MinMaxScaler was fitted without feature names\n",
      "  warnings.warn(\n",
      "/home/sfgary/.miniconda3c/envs/superlearner/lib/python3.9/site-packages/sklearn/base.py:457: UserWarning: X has feature names, but MinMaxScaler was fitted without feature names\n",
      "  warnings.warn(\n",
      "/home/sfgary/.miniconda3c/envs/superlearner/lib/python3.9/site-packages/sklearn/base.py:457: UserWarning: X has feature names, but StandardScaler was fitted without feature names\n",
      "  warnings.warn(\n",
      "/home/sfgary/.miniconda3c/envs/superlearner/lib/python3.9/site-packages/sklearn/base.py:457: UserWarning: X has feature names, but StandardScaler was fitted without feature names\n",
      "  warnings.warn(\n",
      "/home/sfgary/.miniconda3c/envs/superlearner/lib/python3.9/site-packages/sklearn/base.py:457: UserWarning: X has feature names, but MinMaxScaler was fitted without feature names\n",
      "  warnings.warn(\n",
      "/home/sfgary/.miniconda3c/envs/superlearner/lib/python3.9/site-packages/sklearn/base.py:457: UserWarning: X has feature names, but StandardScaler was fitted without feature names\n",
      "  warnings.warn(\n",
      "/home/sfgary/.miniconda3c/envs/superlearner/lib/python3.9/site-packages/sklearn/base.py:457: UserWarning: X has feature names, but StandardScaler was fitted without feature names\n",
      "  warnings.warn(\n",
      "/home/sfgary/.miniconda3c/envs/superlearner/lib/python3.9/site-packages/sklearn/base.py:457: UserWarning: X has feature names, but MinMaxScaler was fitted without feature names\n",
      "  warnings.warn(\n",
      "/home/sfgary/.miniconda3c/envs/superlearner/lib/python3.9/site-packages/sklearn/base.py:457: UserWarning: X has feature names, but MinMaxScaler was fitted without feature names\n",
      "  warnings.warn(\n"
     ]
    },
    {
     "name": "stdout",
     "output_type": "stream",
     "text": [
      "Working on SuperLearner ensemble member 3\n"
     ]
    },
    {
     "name": "stderr",
     "output_type": "stream",
     "text": [
      "/home/sfgary/.miniconda3c/envs/superlearner/lib/python3.9/site-packages/sklearn/base.py:457: UserWarning: X has feature names, but StandardScaler was fitted without feature names\n",
      "  warnings.warn(\n",
      "/home/sfgary/.miniconda3c/envs/superlearner/lib/python3.9/site-packages/sklearn/base.py:457: UserWarning: X has feature names, but MinMaxScaler was fitted without feature names\n",
      "  warnings.warn(\n",
      "/home/sfgary/.miniconda3c/envs/superlearner/lib/python3.9/site-packages/sklearn/base.py:457: UserWarning: X has feature names, but MinMaxScaler was fitted without feature names\n",
      "  warnings.warn(\n",
      "/home/sfgary/.miniconda3c/envs/superlearner/lib/python3.9/site-packages/sklearn/base.py:457: UserWarning: X has feature names, but MinMaxScaler was fitted without feature names\n",
      "  warnings.warn(\n",
      "/home/sfgary/.miniconda3c/envs/superlearner/lib/python3.9/site-packages/sklearn/base.py:457: UserWarning: X has feature names, but MinMaxScaler was fitted without feature names\n",
      "  warnings.warn(\n",
      "/home/sfgary/.miniconda3c/envs/superlearner/lib/python3.9/site-packages/sklearn/base.py:457: UserWarning: X has feature names, but MinMaxScaler was fitted without feature names\n",
      "  warnings.warn(\n",
      "/home/sfgary/.miniconda3c/envs/superlearner/lib/python3.9/site-packages/sklearn/base.py:457: UserWarning: X has feature names, but MinMaxScaler was fitted without feature names\n",
      "  warnings.warn(\n",
      "/home/sfgary/.miniconda3c/envs/superlearner/lib/python3.9/site-packages/sklearn/base.py:457: UserWarning: X has feature names, but MinMaxScaler was fitted without feature names\n",
      "  warnings.warn(\n",
      "/home/sfgary/.miniconda3c/envs/superlearner/lib/python3.9/site-packages/sklearn/base.py:457: UserWarning: X has feature names, but StandardScaler was fitted without feature names\n",
      "  warnings.warn(\n",
      "/home/sfgary/.miniconda3c/envs/superlearner/lib/python3.9/site-packages/sklearn/base.py:457: UserWarning: X has feature names, but StandardScaler was fitted without feature names\n",
      "  warnings.warn(\n",
      "/home/sfgary/.miniconda3c/envs/superlearner/lib/python3.9/site-packages/sklearn/base.py:457: UserWarning: X has feature names, but MinMaxScaler was fitted without feature names\n",
      "  warnings.warn(\n",
      "/home/sfgary/.miniconda3c/envs/superlearner/lib/python3.9/site-packages/sklearn/base.py:457: UserWarning: X has feature names, but StandardScaler was fitted without feature names\n",
      "  warnings.warn(\n",
      "/home/sfgary/.miniconda3c/envs/superlearner/lib/python3.9/site-packages/sklearn/base.py:457: UserWarning: X has feature names, but StandardScaler was fitted without feature names\n",
      "  warnings.warn(\n",
      "/home/sfgary/.miniconda3c/envs/superlearner/lib/python3.9/site-packages/sklearn/base.py:457: UserWarning: X has feature names, but MinMaxScaler was fitted without feature names\n",
      "  warnings.warn(\n",
      "/home/sfgary/.miniconda3c/envs/superlearner/lib/python3.9/site-packages/sklearn/base.py:457: UserWarning: X has feature names, but MinMaxScaler was fitted without feature names\n",
      "  warnings.warn(\n"
     ]
    },
    {
     "name": "stdout",
     "output_type": "stream",
     "text": [
      "Working on SuperLearner ensemble member 4\n"
     ]
    },
    {
     "name": "stderr",
     "output_type": "stream",
     "text": [
      "/home/sfgary/.miniconda3c/envs/superlearner/lib/python3.9/site-packages/sklearn/base.py:457: UserWarning: X has feature names, but StandardScaler was fitted without feature names\n",
      "  warnings.warn(\n",
      "/home/sfgary/.miniconda3c/envs/superlearner/lib/python3.9/site-packages/sklearn/base.py:457: UserWarning: X has feature names, but MinMaxScaler was fitted without feature names\n",
      "  warnings.warn(\n",
      "/home/sfgary/.miniconda3c/envs/superlearner/lib/python3.9/site-packages/sklearn/base.py:457: UserWarning: X has feature names, but MinMaxScaler was fitted without feature names\n",
      "  warnings.warn(\n",
      "/home/sfgary/.miniconda3c/envs/superlearner/lib/python3.9/site-packages/sklearn/base.py:457: UserWarning: X has feature names, but MinMaxScaler was fitted without feature names\n",
      "  warnings.warn(\n",
      "/home/sfgary/.miniconda3c/envs/superlearner/lib/python3.9/site-packages/sklearn/base.py:457: UserWarning: X has feature names, but MinMaxScaler was fitted without feature names\n",
      "  warnings.warn(\n",
      "/home/sfgary/.miniconda3c/envs/superlearner/lib/python3.9/site-packages/sklearn/base.py:457: UserWarning: X has feature names, but MinMaxScaler was fitted without feature names\n",
      "  warnings.warn(\n",
      "/home/sfgary/.miniconda3c/envs/superlearner/lib/python3.9/site-packages/sklearn/base.py:457: UserWarning: X has feature names, but MinMaxScaler was fitted without feature names\n",
      "  warnings.warn(\n",
      "/home/sfgary/.miniconda3c/envs/superlearner/lib/python3.9/site-packages/sklearn/base.py:457: UserWarning: X has feature names, but MinMaxScaler was fitted without feature names\n",
      "  warnings.warn(\n",
      "/home/sfgary/.miniconda3c/envs/superlearner/lib/python3.9/site-packages/sklearn/base.py:457: UserWarning: X has feature names, but StandardScaler was fitted without feature names\n",
      "  warnings.warn(\n",
      "/home/sfgary/.miniconda3c/envs/superlearner/lib/python3.9/site-packages/sklearn/base.py:457: UserWarning: X has feature names, but StandardScaler was fitted without feature names\n",
      "  warnings.warn(\n",
      "/home/sfgary/.miniconda3c/envs/superlearner/lib/python3.9/site-packages/sklearn/base.py:457: UserWarning: X has feature names, but MinMaxScaler was fitted without feature names\n",
      "  warnings.warn(\n",
      "/home/sfgary/.miniconda3c/envs/superlearner/lib/python3.9/site-packages/sklearn/base.py:457: UserWarning: X has feature names, but StandardScaler was fitted without feature names\n",
      "  warnings.warn(\n",
      "/home/sfgary/.miniconda3c/envs/superlearner/lib/python3.9/site-packages/sklearn/base.py:457: UserWarning: X has feature names, but StandardScaler was fitted without feature names\n",
      "  warnings.warn(\n",
      "/home/sfgary/.miniconda3c/envs/superlearner/lib/python3.9/site-packages/sklearn/base.py:457: UserWarning: X has feature names, but MinMaxScaler was fitted without feature names\n",
      "  warnings.warn(\n",
      "/home/sfgary/.miniconda3c/envs/superlearner/lib/python3.9/site-packages/sklearn/base.py:457: UserWarning: X has feature names, but MinMaxScaler was fitted without feature names\n",
      "  warnings.warn(\n"
     ]
    },
    {
     "name": "stdout",
     "output_type": "stream",
     "text": [
      "Working on SuperLearner ensemble member 5\n"
     ]
    },
    {
     "name": "stderr",
     "output_type": "stream",
     "text": [
      "/home/sfgary/.miniconda3c/envs/superlearner/lib/python3.9/site-packages/sklearn/base.py:457: UserWarning: X has feature names, but StandardScaler was fitted without feature names\n",
      "  warnings.warn(\n",
      "/home/sfgary/.miniconda3c/envs/superlearner/lib/python3.9/site-packages/sklearn/base.py:457: UserWarning: X has feature names, but MinMaxScaler was fitted without feature names\n",
      "  warnings.warn(\n",
      "/home/sfgary/.miniconda3c/envs/superlearner/lib/python3.9/site-packages/sklearn/base.py:457: UserWarning: X has feature names, but MinMaxScaler was fitted without feature names\n",
      "  warnings.warn(\n",
      "/home/sfgary/.miniconda3c/envs/superlearner/lib/python3.9/site-packages/sklearn/base.py:457: UserWarning: X has feature names, but MinMaxScaler was fitted without feature names\n",
      "  warnings.warn(\n",
      "/home/sfgary/.miniconda3c/envs/superlearner/lib/python3.9/site-packages/sklearn/base.py:457: UserWarning: X has feature names, but MinMaxScaler was fitted without feature names\n",
      "  warnings.warn(\n",
      "/home/sfgary/.miniconda3c/envs/superlearner/lib/python3.9/site-packages/sklearn/base.py:457: UserWarning: X has feature names, but MinMaxScaler was fitted without feature names\n",
      "  warnings.warn(\n",
      "/home/sfgary/.miniconda3c/envs/superlearner/lib/python3.9/site-packages/sklearn/base.py:457: UserWarning: X has feature names, but MinMaxScaler was fitted without feature names\n",
      "  warnings.warn(\n",
      "/home/sfgary/.miniconda3c/envs/superlearner/lib/python3.9/site-packages/sklearn/base.py:457: UserWarning: X has feature names, but MinMaxScaler was fitted without feature names\n",
      "  warnings.warn(\n",
      "/home/sfgary/.miniconda3c/envs/superlearner/lib/python3.9/site-packages/sklearn/base.py:457: UserWarning: X has feature names, but StandardScaler was fitted without feature names\n",
      "  warnings.warn(\n",
      "/home/sfgary/.miniconda3c/envs/superlearner/lib/python3.9/site-packages/sklearn/base.py:457: UserWarning: X has feature names, but StandardScaler was fitted without feature names\n",
      "  warnings.warn(\n",
      "/home/sfgary/.miniconda3c/envs/superlearner/lib/python3.9/site-packages/sklearn/base.py:457: UserWarning: X has feature names, but MinMaxScaler was fitted without feature names\n",
      "  warnings.warn(\n",
      "/home/sfgary/.miniconda3c/envs/superlearner/lib/python3.9/site-packages/sklearn/base.py:457: UserWarning: X has feature names, but StandardScaler was fitted without feature names\n",
      "  warnings.warn(\n",
      "/home/sfgary/.miniconda3c/envs/superlearner/lib/python3.9/site-packages/sklearn/base.py:457: UserWarning: X has feature names, but StandardScaler was fitted without feature names\n",
      "  warnings.warn(\n",
      "/home/sfgary/.miniconda3c/envs/superlearner/lib/python3.9/site-packages/sklearn/base.py:457: UserWarning: X has feature names, but MinMaxScaler was fitted without feature names\n",
      "  warnings.warn(\n",
      "/home/sfgary/.miniconda3c/envs/superlearner/lib/python3.9/site-packages/sklearn/base.py:457: UserWarning: X has feature names, but MinMaxScaler was fitted without feature names\n",
      "  warnings.warn(\n"
     ]
    },
    {
     "name": "stdout",
     "output_type": "stream",
     "text": [
      "Working on SuperLearner ensemble member 6\n"
     ]
    },
    {
     "name": "stderr",
     "output_type": "stream",
     "text": [
      "/home/sfgary/.miniconda3c/envs/superlearner/lib/python3.9/site-packages/sklearn/base.py:457: UserWarning: X has feature names, but StandardScaler was fitted without feature names\n",
      "  warnings.warn(\n",
      "/home/sfgary/.miniconda3c/envs/superlearner/lib/python3.9/site-packages/sklearn/base.py:457: UserWarning: X has feature names, but MinMaxScaler was fitted without feature names\n",
      "  warnings.warn(\n",
      "/home/sfgary/.miniconda3c/envs/superlearner/lib/python3.9/site-packages/sklearn/base.py:457: UserWarning: X has feature names, but MinMaxScaler was fitted without feature names\n",
      "  warnings.warn(\n",
      "/home/sfgary/.miniconda3c/envs/superlearner/lib/python3.9/site-packages/sklearn/base.py:457: UserWarning: X has feature names, but MinMaxScaler was fitted without feature names\n",
      "  warnings.warn(\n",
      "/home/sfgary/.miniconda3c/envs/superlearner/lib/python3.9/site-packages/sklearn/base.py:457: UserWarning: X has feature names, but MinMaxScaler was fitted without feature names\n",
      "  warnings.warn(\n",
      "/home/sfgary/.miniconda3c/envs/superlearner/lib/python3.9/site-packages/sklearn/base.py:457: UserWarning: X has feature names, but MinMaxScaler was fitted without feature names\n",
      "  warnings.warn(\n",
      "/home/sfgary/.miniconda3c/envs/superlearner/lib/python3.9/site-packages/sklearn/base.py:457: UserWarning: X has feature names, but MinMaxScaler was fitted without feature names\n",
      "  warnings.warn(\n",
      "/home/sfgary/.miniconda3c/envs/superlearner/lib/python3.9/site-packages/sklearn/base.py:457: UserWarning: X has feature names, but MinMaxScaler was fitted without feature names\n",
      "  warnings.warn(\n",
      "/home/sfgary/.miniconda3c/envs/superlearner/lib/python3.9/site-packages/sklearn/base.py:457: UserWarning: X has feature names, but StandardScaler was fitted without feature names\n",
      "  warnings.warn(\n",
      "/home/sfgary/.miniconda3c/envs/superlearner/lib/python3.9/site-packages/sklearn/base.py:457: UserWarning: X has feature names, but StandardScaler was fitted without feature names\n",
      "  warnings.warn(\n",
      "/home/sfgary/.miniconda3c/envs/superlearner/lib/python3.9/site-packages/sklearn/base.py:457: UserWarning: X has feature names, but MinMaxScaler was fitted without feature names\n",
      "  warnings.warn(\n",
      "/home/sfgary/.miniconda3c/envs/superlearner/lib/python3.9/site-packages/sklearn/base.py:457: UserWarning: X has feature names, but StandardScaler was fitted without feature names\n",
      "  warnings.warn(\n",
      "/home/sfgary/.miniconda3c/envs/superlearner/lib/python3.9/site-packages/sklearn/base.py:457: UserWarning: X has feature names, but StandardScaler was fitted without feature names\n",
      "  warnings.warn(\n",
      "/home/sfgary/.miniconda3c/envs/superlearner/lib/python3.9/site-packages/sklearn/base.py:457: UserWarning: X has feature names, but MinMaxScaler was fitted without feature names\n",
      "  warnings.warn(\n",
      "/home/sfgary/.miniconda3c/envs/superlearner/lib/python3.9/site-packages/sklearn/base.py:457: UserWarning: X has feature names, but MinMaxScaler was fitted without feature names\n",
      "  warnings.warn(\n"
     ]
    },
    {
     "name": "stdout",
     "output_type": "stream",
     "text": [
      "Working on SuperLearner ensemble member 7\n"
     ]
    },
    {
     "name": "stderr",
     "output_type": "stream",
     "text": [
      "/home/sfgary/.miniconda3c/envs/superlearner/lib/python3.9/site-packages/sklearn/base.py:457: UserWarning: X has feature names, but StandardScaler was fitted without feature names\n",
      "  warnings.warn(\n",
      "/home/sfgary/.miniconda3c/envs/superlearner/lib/python3.9/site-packages/sklearn/base.py:457: UserWarning: X has feature names, but MinMaxScaler was fitted without feature names\n",
      "  warnings.warn(\n",
      "/home/sfgary/.miniconda3c/envs/superlearner/lib/python3.9/site-packages/sklearn/base.py:457: UserWarning: X has feature names, but MinMaxScaler was fitted without feature names\n",
      "  warnings.warn(\n",
      "/home/sfgary/.miniconda3c/envs/superlearner/lib/python3.9/site-packages/sklearn/base.py:457: UserWarning: X has feature names, but MinMaxScaler was fitted without feature names\n",
      "  warnings.warn(\n",
      "/home/sfgary/.miniconda3c/envs/superlearner/lib/python3.9/site-packages/sklearn/base.py:457: UserWarning: X has feature names, but MinMaxScaler was fitted without feature names\n",
      "  warnings.warn(\n",
      "/home/sfgary/.miniconda3c/envs/superlearner/lib/python3.9/site-packages/sklearn/base.py:457: UserWarning: X has feature names, but MinMaxScaler was fitted without feature names\n",
      "  warnings.warn(\n",
      "/home/sfgary/.miniconda3c/envs/superlearner/lib/python3.9/site-packages/sklearn/base.py:457: UserWarning: X has feature names, but MinMaxScaler was fitted without feature names\n",
      "  warnings.warn(\n",
      "/home/sfgary/.miniconda3c/envs/superlearner/lib/python3.9/site-packages/sklearn/base.py:457: UserWarning: X has feature names, but MinMaxScaler was fitted without feature names\n",
      "  warnings.warn(\n",
      "/home/sfgary/.miniconda3c/envs/superlearner/lib/python3.9/site-packages/sklearn/base.py:457: UserWarning: X has feature names, but StandardScaler was fitted without feature names\n",
      "  warnings.warn(\n",
      "/home/sfgary/.miniconda3c/envs/superlearner/lib/python3.9/site-packages/sklearn/base.py:457: UserWarning: X has feature names, but StandardScaler was fitted without feature names\n",
      "  warnings.warn(\n",
      "/home/sfgary/.miniconda3c/envs/superlearner/lib/python3.9/site-packages/sklearn/base.py:457: UserWarning: X has feature names, but MinMaxScaler was fitted without feature names\n",
      "  warnings.warn(\n",
      "/home/sfgary/.miniconda3c/envs/superlearner/lib/python3.9/site-packages/sklearn/base.py:457: UserWarning: X has feature names, but StandardScaler was fitted without feature names\n",
      "  warnings.warn(\n",
      "/home/sfgary/.miniconda3c/envs/superlearner/lib/python3.9/site-packages/sklearn/base.py:457: UserWarning: X has feature names, but StandardScaler was fitted without feature names\n",
      "  warnings.warn(\n",
      "/home/sfgary/.miniconda3c/envs/superlearner/lib/python3.9/site-packages/sklearn/base.py:457: UserWarning: X has feature names, but MinMaxScaler was fitted without feature names\n",
      "  warnings.warn(\n",
      "/home/sfgary/.miniconda3c/envs/superlearner/lib/python3.9/site-packages/sklearn/base.py:457: UserWarning: X has feature names, but MinMaxScaler was fitted without feature names\n",
      "  warnings.warn(\n"
     ]
    },
    {
     "name": "stdout",
     "output_type": "stream",
     "text": [
      "Working on SuperLearner ensemble member 8\n"
     ]
    },
    {
     "name": "stderr",
     "output_type": "stream",
     "text": [
      "/home/sfgary/.miniconda3c/envs/superlearner/lib/python3.9/site-packages/sklearn/base.py:457: UserWarning: X has feature names, but StandardScaler was fitted without feature names\n",
      "  warnings.warn(\n",
      "/home/sfgary/.miniconda3c/envs/superlearner/lib/python3.9/site-packages/sklearn/base.py:457: UserWarning: X has feature names, but MinMaxScaler was fitted without feature names\n",
      "  warnings.warn(\n",
      "/home/sfgary/.miniconda3c/envs/superlearner/lib/python3.9/site-packages/sklearn/base.py:457: UserWarning: X has feature names, but MinMaxScaler was fitted without feature names\n",
      "  warnings.warn(\n",
      "/home/sfgary/.miniconda3c/envs/superlearner/lib/python3.9/site-packages/sklearn/base.py:457: UserWarning: X has feature names, but MinMaxScaler was fitted without feature names\n",
      "  warnings.warn(\n",
      "/home/sfgary/.miniconda3c/envs/superlearner/lib/python3.9/site-packages/sklearn/base.py:457: UserWarning: X has feature names, but MinMaxScaler was fitted without feature names\n",
      "  warnings.warn(\n",
      "/home/sfgary/.miniconda3c/envs/superlearner/lib/python3.9/site-packages/sklearn/base.py:457: UserWarning: X has feature names, but MinMaxScaler was fitted without feature names\n",
      "  warnings.warn(\n",
      "/home/sfgary/.miniconda3c/envs/superlearner/lib/python3.9/site-packages/sklearn/base.py:457: UserWarning: X has feature names, but MinMaxScaler was fitted without feature names\n",
      "  warnings.warn(\n",
      "/home/sfgary/.miniconda3c/envs/superlearner/lib/python3.9/site-packages/sklearn/base.py:457: UserWarning: X has feature names, but MinMaxScaler was fitted without feature names\n",
      "  warnings.warn(\n",
      "/home/sfgary/.miniconda3c/envs/superlearner/lib/python3.9/site-packages/sklearn/base.py:457: UserWarning: X has feature names, but StandardScaler was fitted without feature names\n",
      "  warnings.warn(\n",
      "/home/sfgary/.miniconda3c/envs/superlearner/lib/python3.9/site-packages/sklearn/base.py:457: UserWarning: X has feature names, but StandardScaler was fitted without feature names\n",
      "  warnings.warn(\n",
      "/home/sfgary/.miniconda3c/envs/superlearner/lib/python3.9/site-packages/sklearn/base.py:457: UserWarning: X has feature names, but MinMaxScaler was fitted without feature names\n",
      "  warnings.warn(\n",
      "/home/sfgary/.miniconda3c/envs/superlearner/lib/python3.9/site-packages/sklearn/base.py:457: UserWarning: X has feature names, but StandardScaler was fitted without feature names\n",
      "  warnings.warn(\n",
      "/home/sfgary/.miniconda3c/envs/superlearner/lib/python3.9/site-packages/sklearn/base.py:457: UserWarning: X has feature names, but StandardScaler was fitted without feature names\n",
      "  warnings.warn(\n",
      "/home/sfgary/.miniconda3c/envs/superlearner/lib/python3.9/site-packages/sklearn/base.py:457: UserWarning: X has feature names, but MinMaxScaler was fitted without feature names\n",
      "  warnings.warn(\n",
      "/home/sfgary/.miniconda3c/envs/superlearner/lib/python3.9/site-packages/sklearn/base.py:457: UserWarning: X has feature names, but MinMaxScaler was fitted without feature names\n",
      "  warnings.warn(\n"
     ]
    },
    {
     "name": "stdout",
     "output_type": "stream",
     "text": [
      "Working on SuperLearner ensemble member 9\n"
     ]
    },
    {
     "name": "stderr",
     "output_type": "stream",
     "text": [
      "/home/sfgary/.miniconda3c/envs/superlearner/lib/python3.9/site-packages/sklearn/base.py:457: UserWarning: X has feature names, but StandardScaler was fitted without feature names\n",
      "  warnings.warn(\n",
      "/home/sfgary/.miniconda3c/envs/superlearner/lib/python3.9/site-packages/sklearn/base.py:457: UserWarning: X has feature names, but MinMaxScaler was fitted without feature names\n",
      "  warnings.warn(\n",
      "/home/sfgary/.miniconda3c/envs/superlearner/lib/python3.9/site-packages/sklearn/base.py:457: UserWarning: X has feature names, but MinMaxScaler was fitted without feature names\n",
      "  warnings.warn(\n",
      "/home/sfgary/.miniconda3c/envs/superlearner/lib/python3.9/site-packages/sklearn/base.py:457: UserWarning: X has feature names, but MinMaxScaler was fitted without feature names\n",
      "  warnings.warn(\n",
      "/home/sfgary/.miniconda3c/envs/superlearner/lib/python3.9/site-packages/sklearn/base.py:457: UserWarning: X has feature names, but MinMaxScaler was fitted without feature names\n",
      "  warnings.warn(\n",
      "/home/sfgary/.miniconda3c/envs/superlearner/lib/python3.9/site-packages/sklearn/base.py:457: UserWarning: X has feature names, but MinMaxScaler was fitted without feature names\n",
      "  warnings.warn(\n",
      "/home/sfgary/.miniconda3c/envs/superlearner/lib/python3.9/site-packages/sklearn/base.py:457: UserWarning: X has feature names, but MinMaxScaler was fitted without feature names\n",
      "  warnings.warn(\n",
      "/home/sfgary/.miniconda3c/envs/superlearner/lib/python3.9/site-packages/sklearn/base.py:457: UserWarning: X has feature names, but MinMaxScaler was fitted without feature names\n",
      "  warnings.warn(\n",
      "/home/sfgary/.miniconda3c/envs/superlearner/lib/python3.9/site-packages/sklearn/base.py:457: UserWarning: X has feature names, but StandardScaler was fitted without feature names\n",
      "  warnings.warn(\n",
      "/home/sfgary/.miniconda3c/envs/superlearner/lib/python3.9/site-packages/sklearn/base.py:457: UserWarning: X has feature names, but StandardScaler was fitted without feature names\n",
      "  warnings.warn(\n",
      "/home/sfgary/.miniconda3c/envs/superlearner/lib/python3.9/site-packages/sklearn/base.py:457: UserWarning: X has feature names, but MinMaxScaler was fitted without feature names\n",
      "  warnings.warn(\n",
      "/home/sfgary/.miniconda3c/envs/superlearner/lib/python3.9/site-packages/sklearn/base.py:457: UserWarning: X has feature names, but StandardScaler was fitted without feature names\n",
      "  warnings.warn(\n",
      "/home/sfgary/.miniconda3c/envs/superlearner/lib/python3.9/site-packages/sklearn/base.py:457: UserWarning: X has feature names, but StandardScaler was fitted without feature names\n",
      "  warnings.warn(\n",
      "/home/sfgary/.miniconda3c/envs/superlearner/lib/python3.9/site-packages/sklearn/base.py:457: UserWarning: X has feature names, but MinMaxScaler was fitted without feature names\n",
      "  warnings.warn(\n",
      "/home/sfgary/.miniconda3c/envs/superlearner/lib/python3.9/site-packages/sklearn/base.py:457: UserWarning: X has feature names, but MinMaxScaler was fitted without feature names\n",
      "  warnings.warn(\n"
     ]
    }
   ],
   "source": [
    "# Set number of SuperLearner ensemble members\n",
    "num_sl = 10\n",
    "\n",
    "# Initialize data frame list to hold output\n",
    "sl_predict_output_df_list = []\n",
    "\n",
    "# Loop over all ensemble members\n",
    "for ll in range(0,num_sl):\n",
    "    \n",
    "    print(\"Working on SuperLearner ensemble member \"+str(ll))\n",
    "    \n",
    "    # Load the SuperLearner model from .pkl\n",
    "    model_dir = repo_prefix+repo_name+\"/ml_models/sl_\"+str(ll)\n",
    "    sys.path.append(model_dir)\n",
    "    with open(model_dir+'/SuperLearners.pkl','rb') as file_object:\n",
    "        superlearner = pickle.load(file_object)\n",
    "\n",
    "    # OPTIONAL: For a given output variable, list the models:\n",
    "    predict_var = 'Normalized_Respiration_Rate_mg_DO_per_H_per_L_sediment'\n",
    "    #print(\"Submodels within SuperLearner and their weights:\")\n",
    "    #list_models = list(superlearner[predict_var].named_estimators_.keys())\n",
    "    #print(list_models)\n",
    "    \n",
    "    # OPTIONAL: The following only works for the scipy.optimize.nnls\n",
    "    # stacking regressor, not the sklearn stacking regressors.\n",
    "    #print(superlearner[predict_var].final_estimator_.weights_)\n",
    "    \n",
    "    # Make predictions\n",
    "    sl_predict_output_df_list.append(superlearner[predict_var].predict(predict_df))"
   ]
  },
  {
   "cell_type": "markdown",
   "id": "0cbd29b8-83d6-49bd-8ff3-ad64253de411",
   "metadata": {},
   "source": [
    "# Stage 2 (RA+GH): Consolidate over ensemble members"
   ]
  },
  {
   "cell_type": "code",
   "execution_count": 27,
   "id": "2be5a882-d725-4189-b938-a7260166358e",
   "metadata": {
    "tags": []
   },
   "outputs": [],
   "source": [
    "# Didn't realize that .predict output is a pure numpy array and not a DF.\n",
    "# I don't want to rerun the cell above (10 mins) so consolidate to DF here.\n",
    "sl_predict_output = pd.DataFrame(columns=['sl_0','sl_1','sl_2','sl_3','sl_4','sl_5','sl_6','sl_7','sl_8','sl_9'])\n",
    "\n",
    "# Loop over all ensemble members\n",
    "for ll in range(0,num_sl):\n",
    "    sl_predict_output['sl_'+str(ll)] = sl_predict_output_df_list[ll]\n",
    "\n",
    "# Grab mean and std\n",
    "sl_predict_output['mean'] = sl_predict_output.mean(axis=1)\n",
    "sl_predict_output['std'] = sl_predict_output.std(axis=1)\n",
    "\n",
    "# Paste the ixy info back into the file so we can plot the network of rivers\n",
    "# with GMT (not this notebook). Reset index to row order\n",
    "out = pd.concat([predict_ixy, sl_predict_output], axis='columns')\n",
    "out.to_csv('RiverAtlas_GLORICH_'+branch+'_bias_adj_predictions.csv')"
   ]
  },
  {
   "cell_type": "markdown",
   "id": "d336e25d-acc0-45a7-a5d3-db6054cd64ef",
   "metadata": {},
   "source": [
    "## Final steps and plotting"
   ]
  },
  {
   "cell_type": "markdown",
   "id": "7abe1fdd-680f-47ab-ba7b-0e768ac881eb",
   "metadata": {},
   "source": [
    "Next, we need to plot the data. Maps are made in GMT, see `fig07_predict_map.sh`.\n",
    "Histograms are made in notebook `fig08_predict_hist.ipynb`."
   ]
  },
  {
   "cell_type": "code",
   "execution_count": null,
   "id": "61bf19fd-ce2e-43f2-8e67-910e75df9795",
   "metadata": {},
   "outputs": [],
   "source": []
  }
 ],
 "metadata": {
  "kernelspec": {
   "display_name": "Python [conda env:superlearner]",
   "language": "python",
   "name": "conda-env-superlearner-py"
  },
  "language_info": {
   "codemirror_mode": {
    "name": "ipython",
    "version": 3
   },
   "file_extension": ".py",
   "mimetype": "text/x-python",
   "name": "python",
   "nbconvert_exporter": "python",
   "pygments_lexer": "ipython3",
   "version": "3.9.18"
  }
 },
 "nbformat": 4,
 "nbformat_minor": 5
}
