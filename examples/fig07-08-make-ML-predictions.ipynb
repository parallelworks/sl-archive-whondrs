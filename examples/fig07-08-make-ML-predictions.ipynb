{
 "cells": [
  {
   "cell_type": "markdown",
   "id": "9aae5b99-4a7a-4a19-abc7-8ce355879d51",
   "metadata": {
    "tags": []
   },
   "source": [
    "# Notebook for making predictions with an ensemble of SuperLearner machine learning models.\n",
    "\n",
    "This Jupyter notebook is an example for how to reuse an archived ML model trained for predicting sediment respiration rates. The general concepts used here can be applied elsewhere.\n",
    "\n",
    "## Dependencies\n",
    "\n",
    "In order to use the ML model, you need to first get access to the Python packages necessary for running the model. The SuperLearner automatically stores `.yaml` files that define its run environment, but, to keep environments lightweight and minimize install time, etc., these environments do not contain the packages needed for displaying Jupyter notebooks. As such, this repository contains a `.yaml` that can be used with the following command:\n",
    "```\n",
    "conda env update --name <your-env-name> -f fig07-08-notebook-conda-env.yaml\n",
    "```\n",
    "\n",
    "This file was created from an automatically generated SuperLearner environment definition file with the following commands:\n",
    "```\n",
    "conda create -y --name superlearner python=3.9\n",
    "conda activate superlearner\n",
    "conda env update --name superlearner -f requirements.yaml\n",
    "conda install -y -c conda-forge requests\n",
    "conda install -y -c anaconda jinja2\n",
    "conda install -y -c conda-forge ipykernel\n",
    "conda env export --name superlearner > fig07-08-notebook-conda-env.yaml\n",
    "```\n",
    "\n",
    "The `.yaml` files here are stored as gzipped files `.yaml.gz` because otherwise GitHub will read the `requirements.yaml` files and print security warnings if the files use out of date packages. Since this code is of limited duration scientific use (i.e. not production) I have ignored these warnings."
   ]
  },
  {
   "cell_type": "code",
   "execution_count": null,
   "id": "eaeeaffa-3e4d-4ff0-b589-308016336649",
   "metadata": {},
   "outputs": [],
   "source": []
  }
 ],
 "metadata": {
  "kernelspec": {
   "display_name": "Python [conda env:superlearner]",
   "language": "python",
   "name": "conda-env-superlearner-py"
  },
  "language_info": {
   "codemirror_mode": {
    "name": "ipython",
    "version": 3
   },
   "file_extension": ".py",
   "mimetype": "text/x-python",
   "name": "python",
   "nbconvert_exporter": "python",
   "pygments_lexer": "ipython3",
   "version": "3.9.18"
  }
 },
 "nbformat": 4,
 "nbformat_minor": 5
}
